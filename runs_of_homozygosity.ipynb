{
 "cells": [
  {
   "cell_type": "markdown",
   "metadata": {},
   "source": [
    "# Post GWAS analysis Pipeline: Runs of homozygosity using plink\n",
    "    Description:\n",
    "    This notebook describe the pipline to screen for runs of homozygous genotypes using Plink 1.9"
   ]
  },
  {
   "cell_type": "markdown",
   "metadata": {
    "heading_collapsed": true
   },
   "source": [
    "## Step1: QC\n",
    "    - annotate samples with gender and phenotype status\n",
    "    - keep only biallelic snps\n",
    "    - remove snps with hwe < 1E-5\n",
    "    - remove snps with missing genotypes > 1%\n",
    "    - remove snps in high LD"
   ]
  },
  {
   "cell_type": "markdown",
   "metadata": {},
   "source": [
    "## Software Setup "
   ]
  },
  {
   "cell_type": "markdown",
   "metadata": {},
   "source": [
    "### Plink1.9"
   ]
  },
  {
   "cell_type": "code",
   "execution_count": 28,
   "metadata": {},
   "outputs": [
    {
     "name": "stdout",
     "output_type": "stream",
     "text": [
      "BB_GP2.ipynb\n",
      "BJ_GP2.ipynb\n",
      "JL_GP2.ipynb\n",
      "LICENSE\n",
      "LW_GP2.ipynb\n",
      "plink\n",
      "plink_ROH\n",
      "prettify\n",
      "RR_GP2-Copy2.ipynb\n",
      "RR_GP2.ipynb\n",
      "RR_GP2_v2.ipynb\n",
      "toy.map\n",
      "toy.ped\n",
      "Plink is already installed\n"
     ]
    }
   ],
   "source": [
    "%%bash\n",
    "\n",
    "mkdir -p plink_ROH\n",
    "mkdir -p plink_ROH/Input\n",
    "mkdir -p plink_ROH/Output\n",
    "ls\n",
    "if test -e plink; then\n",
    "\n",
    "echo \"Plink is already installed\"\n",
    "else\n",
    "echo \"Plink is not installed, installing plink.....\"\n",
    "cd plink_ROH\n",
    "wget https://s3.amazonaws.com/plink1-assets/plink_linux_x86_64_20210416.zip \n",
    "cd ..\n",
    "ls plink_ROH\n",
    "cd ..\n",
    "unzip plink_ROH/plink_linux_x86_64_20210416.zip\n",
    "fi\n"
   ]
  },
  {
   "cell_type": "code",
   "execution_count": 1,
   "metadata": {
    "scrolled": false
   },
   "outputs": [
    {
     "name": "stdout",
     "output_type": "stream",
     "text": [
      "Checking content in plink_ROH directory .....\n",
      "Input\n",
      "Output\n",
      "plink_linux_x86_64_20210416.zip\n",
      "Checking content in plink_ROH/Input directory ......\n",
      "all_vcfs.bed\n",
      "all_vcfs.bim\n",
      "all_vcfs.fam\n",
      "all_vcfs.log\n",
      "all_vcfs_sex_pheno.bed\n",
      "all_vcfs_sex_pheno.bim\n",
      "all_vcfs_sex_pheno.fam\n",
      "all_vcfs_sex_pheno.hh\n",
      "all_vcfs_sex_pheno.log\n",
      "all_vcfs_sex_pheno.nosex\n",
      "all_vcfs_sex_pheno_QC.log\n",
      "amp_pd_case_control.csv\n",
      "Demographics.csv\n",
      "Sample_Gender.tsv\n",
      "Sample_Pheno.tsv\n",
      "snp.keep\n",
      "Checking content in plink_ROH/Output directory .....\n"
     ]
    }
   ],
   "source": [
    "%%bash\n",
    "#./plink --help\n",
    "echo \"Checking content in plink_ROH directory .....\"\n",
    "ls ./plink_ROH\n",
    "echo \"Checking content in plink_ROH/Input directory ......\"\n",
    "ls ./plink_ROH/Input\n",
    "echo \"Checking content in plink_ROH/Output directory .....\"\n",
    "ls ./plink_ROH/Output\n"
   ]
  },
  {
   "cell_type": "markdown",
   "metadata": {},
   "source": [
    "## Libray Setup"
   ]
  },
  {
   "cell_type": "code",
   "execution_count": 5,
   "metadata": {},
   "outputs": [],
   "source": [
    "# Use the os package to interact with the environment\n",
    "import os\n",
    "\n",
    "# Use the sys package to interact with stderr\n",
    "import sys\n",
    "\n",
    "# Use the FireCloud API to interact with the workspace\n",
    "from firecloud import api as fapi\n",
    "\n",
    "# Use Pandas for tabular data\n",
    "import pandas as pd\n",
    "\n",
    "# Use StringIO for working with file contents\n",
    "from io import StringIO\n",
    "\n",
    "# Enable IPython to display matplotlib graphs.\n",
    "import matplotlib.pyplot as plt\n",
    "%matplotlib inline\n",
    "from cycler import cycler\n",
    "\n",
    "# Import the iPython HTML rendering for displaying links to Google Cloud Console\n",
    "from IPython.core.display import display, HTML\n",
    "\n",
    "# Import urllib modules for building URLs to Google Cloud Console\n",
    "import urllib.parse"
   ]
  },
  {
   "cell_type": "code",
   "execution_count": 7,
   "metadata": {},
   "outputs": [],
   "source": [
    "# Utility routine for printing a shell command before executing it\n",
    "def shell_do(command):\n",
    "    print(f'Executing: {command}', file=sys.stderr)\n",
    "    !$command\n",
    "  \n",
    "  \n",
    "def showBfileShape(bfile):\n",
    "  res = subprocess.run(['wc', '-l', bfile + '.fam'], stdout=subprocess.PIPE)\n",
    "  N = res.stdout.decode('utf-8').split(' ')[0]\n",
    "  res = subprocess.run(['wc', '-l', bfile + '.bim'], stdout=subprocess.PIPE)\n",
    "  V = res.stdout.decode('utf-8').split(' ')[0]\n",
    "  ans = '=== {} ===\\nN = {}, V = {}'.format(bfile, N, V)\n",
    "  print(ans)\n",
    "  \n",
    "  \n",
    "  # Utility routines for reading files from Google Cloud Storage   \n",
    "def gcs_read_file(path):\n",
    "   \"\"\"Return the contents of a file in GCS\"\"\"\n",
    "   contents = !gsutil -u {BILLING_PROJECT_ID} cat {path}\n",
    "   return '\\n'.join(contents)\n",
    "  \n",
    "def gcs_read_csv(path, sep=None):\n",
    "  \"\"\"Return a DataFrame from the contents of a delimited file in GCS\"\"\"\n",
    "  return pd.read_csv(StringIO(gcs_read_file(path)), sep=sep, engine='python')\n",
    "  \n",
    "  "
   ]
  },
  {
   "cell_type": "markdown",
   "metadata": {},
   "source": [
    "## Global variable set up"
   ]
  },
  {
   "cell_type": "code",
   "execution_count": 6,
   "metadata": {},
   "outputs": [
    {
     "name": "stdout",
     "output_type": "stream",
     "text": [
      "GS_WGS_SAMPLES_PATH = gs://amp-pd-genomics/releases/2019_v1release_1015/wgs/plink/bfile\n"
     ]
    }
   ],
   "source": [
    " \n",
    "  BILLING_PROJECT_ID = os.environ['GOOGLE_PROJECT']\n",
    "  WORKSPACE_BUCKET = os.environ['WORKSPACE_BUCKET']\n",
    "  \n",
    "  GS_WGS_RELEASE_PLINK_PATH = 'gs://amp-pd-genomics/releases/2019_v1release_1015/wgs/plink/bfile'\n",
    "  \n",
    "  print(f'GS_WGS_SAMPLES_PATH = {GS_WGS_RELEASE_PLINK_PATH}')\n",
    " "
   ]
  },
  {
   "cell_type": "markdown",
   "metadata": {},
   "source": [
    "## Copy plink format data to nootebook runtime"
   ]
  },
  {
   "cell_type": "code",
   "execution_count": 29,
   "metadata": {
    "scrolled": true
   },
   "outputs": [
    {
     "name": "stderr",
     "output_type": "stream",
     "text": [
      "Executing: gsutil -mu gp2-ipdgc-hackathon cp gs://amp-pd-genomics/releases/2019_v1release_1015/wgs/plink/bfile/all_vcfs* ./plink_ROH/Input\n"
     ]
    },
    {
     "name": "stdout",
     "output_type": "stream",
     "text": [
      "Copying gs://amp-pd-genomics/releases/2019_v1release_1015/wgs/plink/bfile/all_vcfs.bim...\n",
      "Copying gs://amp-pd-genomics/releases/2019_v1release_1015/wgs/plink/bfile/all_vcfs.fam...\n",
      "Copying gs://amp-pd-genomics/releases/2019_v1release_1015/wgs/plink/bfile/all_vcfs.bed...\n",
      "==> NOTE: You are downloading one or more large file(s), which would            \n",
      "run significantly faster if you enabled sliced object downloads. This\n",
      "feature is enabled by default but requires that compiled crcmod be\n",
      "installed (see \"gsutil help crcmod\").\n",
      "\n",
      "Copying gs://amp-pd-genomics/releases/2019_v1release_1015/wgs/plink/bfile/all_vcfs.log...\n",
      "- [4/4 files][ 21.4 GiB/ 21.4 GiB] 100% Done  85.8 MiB/s ETA 00:00:00           \n",
      "Operation completed over 4 objects/21.4 GiB.                                     \n"
     ]
    }
   ],
   "source": [
    "shell_do(f'gsutil -mu {BILLING_PROJECT_ID} cp {GS_WGS_RELEASE_PLINK_PATH}/all_vcfs* ./plink_ROH/Input')\n",
    "\n",
    "shell_do(f'gsutil -mu {BILLING_PROJECT_ID} cp gs://amp-pd-data/releases/2019_v1release_1015/amp_pd_case_control.csv ./plink_ROH/Input')\n",
    "shell_do(f'gsutil -mu {BILLING_PROJECT_ID} cp gs://amp-pd-data/releases/2019_v1release_1015/clinical/Demographics.csv ./plink_ROH/Input')\n"
   ]
  },
  {
   "cell_type": "code",
   "execution_count": 8,
   "metadata": {},
   "outputs": [
    {
     "name": "stdout",
     "output_type": "stream",
     "text": [
      "Check fam file\n",
      "BF-1001\tBF-1001\t0\t0\t0\t-9\n",
      "BF-1002\tBF-1002\t0\t0\t0\t-9\n",
      "BF-1003\tBF-1003\t0\t0\t0\t-9\n",
      "Check bim file\n",
      "1\trs201752861\t0\t10177\t*\tA\n",
      "1\trs201694901\t0\t10180\tC\tT\n",
      "1\trs199706086\t0\t10250\tC\tA\n"
     ]
    }
   ],
   "source": [
    "%%bash\n",
    "echo \"Checking fam file .....\"\n",
    "head -n3 ./plink_ROH/Input/all_vcfs.fam\n",
    "\n",
    "echo \"Checking  bim file.....\"\n",
    "head -n3 ./plink_ROH/Input/all_vcfs.bim\n"
   ]
  },
  {
   "cell_type": "markdown",
   "metadata": {},
   "source": [
    "## Quality Control of plink data"
   ]
  },
  {
   "cell_type": "code",
   "execution_count": 39,
   "metadata": {
    "code_folding": []
   },
   "outputs": [
    {
     "name": "stdout",
     "output_type": "stream",
     "text": [
      "checking Demograhics data.....\n"
     ]
    },
    {
     "data": {
      "text/html": [
       "<div>\n",
       "<style scoped>\n",
       "    .dataframe tbody tr th:only-of-type {\n",
       "        vertical-align: middle;\n",
       "    }\n",
       "\n",
       "    .dataframe tbody tr th {\n",
       "        vertical-align: top;\n",
       "    }\n",
       "\n",
       "    .dataframe thead th {\n",
       "        text-align: right;\n",
       "    }\n",
       "</style>\n",
       "<table border=\"1\" class=\"dataframe\">\n",
       "  <thead>\n",
       "    <tr style=\"text-align: right;\">\n",
       "      <th></th>\n",
       "      <th>participant_id</th>\n",
       "      <th>GUID</th>\n",
       "      <th>visit_name</th>\n",
       "      <th>visit_month</th>\n",
       "      <th>age_at_baseline</th>\n",
       "      <th>sex</th>\n",
       "      <th>ethnicity</th>\n",
       "      <th>race</th>\n",
       "      <th>education_level_years</th>\n",
       "    </tr>\n",
       "  </thead>\n",
       "  <tbody>\n",
       "    <tr>\n",
       "      <th>0</th>\n",
       "      <td>PD-PDNE299YPT</td>\n",
       "      <td>PDNE299YPT</td>\n",
       "      <td>M0</td>\n",
       "      <td>0</td>\n",
       "      <td>74</td>\n",
       "      <td>Male</td>\n",
       "      <td>Not Hispanic or Latino</td>\n",
       "      <td>White</td>\n",
       "      <td>Greater than 16 years</td>\n",
       "    </tr>\n",
       "    <tr>\n",
       "      <th>1</th>\n",
       "      <td>PD-PDYW828VAV</td>\n",
       "      <td>PDYW828VAV</td>\n",
       "      <td>M0</td>\n",
       "      <td>0</td>\n",
       "      <td>57</td>\n",
       "      <td>Female</td>\n",
       "      <td>Not Hispanic or Latino</td>\n",
       "      <td>White</td>\n",
       "      <td>12-16 years</td>\n",
       "    </tr>\n",
       "    <tr>\n",
       "      <th>2</th>\n",
       "      <td>PD-PDWV958JPG</td>\n",
       "      <td>PDWV958JPG</td>\n",
       "      <td>M0</td>\n",
       "      <td>0</td>\n",
       "      <td>68</td>\n",
       "      <td>Male</td>\n",
       "      <td>Not Hispanic or Latino</td>\n",
       "      <td>White</td>\n",
       "      <td>Greater than 16 years</td>\n",
       "    </tr>\n",
       "    <tr>\n",
       "      <th>3</th>\n",
       "      <td>PD-PDRF387ZV3</td>\n",
       "      <td>PDRF387ZV3</td>\n",
       "      <td>M0</td>\n",
       "      <td>0</td>\n",
       "      <td>68</td>\n",
       "      <td>Male</td>\n",
       "      <td>Not Hispanic or Latino</td>\n",
       "      <td>White</td>\n",
       "      <td>12-16 years</td>\n",
       "    </tr>\n",
       "    <tr>\n",
       "      <th>4</th>\n",
       "      <td>PD-PDAC268KWV</td>\n",
       "      <td>PDAC268KWV</td>\n",
       "      <td>M0</td>\n",
       "      <td>0</td>\n",
       "      <td>69</td>\n",
       "      <td>Female</td>\n",
       "      <td>Not Hispanic or Latino</td>\n",
       "      <td>White</td>\n",
       "      <td>Greater than 16 years</td>\n",
       "    </tr>\n",
       "  </tbody>\n",
       "</table>\n",
       "</div>"
      ],
      "text/plain": [
       "  participant_id        GUID visit_name  visit_month  age_at_baseline     sex  \\\n",
       "0  PD-PDNE299YPT  PDNE299YPT         M0            0               74    Male   \n",
       "1  PD-PDYW828VAV  PDYW828VAV         M0            0               57  Female   \n",
       "2  PD-PDWV958JPG  PDWV958JPG         M0            0               68    Male   \n",
       "3  PD-PDRF387ZV3  PDRF387ZV3         M0            0               68    Male   \n",
       "4  PD-PDAC268KWV  PDAC268KWV         M0            0               69  Female   \n",
       "\n",
       "                ethnicity   race  education_level_years  \n",
       "0  Not Hispanic or Latino  White  Greater than 16 years  \n",
       "1  Not Hispanic or Latino  White            12-16 years  \n",
       "2  Not Hispanic or Latino  White  Greater than 16 years  \n",
       "3  Not Hispanic or Latino  White            12-16 years  \n",
       "4  Not Hispanic or Latino  White  Greater than 16 years  "
      ]
     },
     "execution_count": 39,
     "metadata": {},
     "output_type": "execute_result"
    }
   ],
   "source": [
    "### add sample gender information\n",
    "print(\"checking Demograhics data.....\")\n",
    "demo = pd.read_csv('./plink_ROH/Input/Demographics.csv',sep=',')\n",
    "demo.head()"
   ]
  },
  {
   "cell_type": "code",
   "execution_count": 42,
   "metadata": {
    "scrolled": true
   },
   "outputs": [
    {
     "name": "stderr",
     "output_type": "stream",
     "text": [
      "/usr/local/lib/python3.7/dist-packages/ipykernel_launcher.py:2: SettingWithCopyWarning: \n",
      "A value is trying to be set on a copy of a slice from a DataFrame.\n",
      "Try using .loc[row_indexer,col_indexer] = value instead\n",
      "\n",
      "See the caveats in the documentation: https://pandas.pydata.org/pandas-docs/stable/user_guide/indexing.html#returning-a-view-versus-a-copy\n",
      "  \n",
      "/usr/local/lib/python3.7/dist-packages/ipykernel_launcher.py:3: SettingWithCopyWarning: \n",
      "A value is trying to be set on a copy of a slice from a DataFrame.\n",
      "Try using .loc[row_indexer,col_indexer] = value instead\n",
      "\n",
      "See the caveats in the documentation: https://pandas.pydata.org/pandas-docs/stable/user_guide/indexing.html#returning-a-view-versus-a-copy\n",
      "  This is separate from the ipykernel package so we can avoid doing imports until\n"
     ]
    },
    {
     "data": {
      "text/html": [
       "<div>\n",
       "<style scoped>\n",
       "    .dataframe tbody tr th:only-of-type {\n",
       "        vertical-align: middle;\n",
       "    }\n",
       "\n",
       "    .dataframe tbody tr th {\n",
       "        vertical-align: top;\n",
       "    }\n",
       "\n",
       "    .dataframe thead th {\n",
       "        text-align: right;\n",
       "    }\n",
       "</style>\n",
       "<table border=\"1\" class=\"dataframe\">\n",
       "  <thead>\n",
       "    <tr style=\"text-align: right;\">\n",
       "      <th></th>\n",
       "      <th>FID</th>\n",
       "      <th>IID</th>\n",
       "      <th>sex</th>\n",
       "    </tr>\n",
       "  </thead>\n",
       "  <tbody>\n",
       "    <tr>\n",
       "      <th>0</th>\n",
       "      <td>PD-PDNE299YPT</td>\n",
       "      <td>PD-PDNE299YPT</td>\n",
       "      <td>1</td>\n",
       "    </tr>\n",
       "    <tr>\n",
       "      <th>1</th>\n",
       "      <td>PD-PDYW828VAV</td>\n",
       "      <td>PD-PDYW828VAV</td>\n",
       "      <td>2</td>\n",
       "    </tr>\n",
       "    <tr>\n",
       "      <th>2</th>\n",
       "      <td>PD-PDWV958JPG</td>\n",
       "      <td>PD-PDWV958JPG</td>\n",
       "      <td>1</td>\n",
       "    </tr>\n",
       "    <tr>\n",
       "      <th>3</th>\n",
       "      <td>PD-PDRF387ZV3</td>\n",
       "      <td>PD-PDRF387ZV3</td>\n",
       "      <td>1</td>\n",
       "    </tr>\n",
       "    <tr>\n",
       "      <th>4</th>\n",
       "      <td>PD-PDAC268KWV</td>\n",
       "      <td>PD-PDAC268KWV</td>\n",
       "      <td>2</td>\n",
       "    </tr>\n",
       "  </tbody>\n",
       "</table>\n",
       "</div>"
      ],
      "text/plain": [
       "             FID            IID sex\n",
       "0  PD-PDNE299YPT  PD-PDNE299YPT   1\n",
       "1  PD-PDYW828VAV  PD-PDYW828VAV   2\n",
       "2  PD-PDWV958JPG  PD-PDWV958JPG   1\n",
       "3  PD-PDRF387ZV3  PD-PDRF387ZV3   1\n",
       "4  PD-PDAC268KWV  PD-PDAC268KWV   2"
      ]
     },
     "execution_count": 42,
     "metadata": {},
     "output_type": "execute_result"
    }
   ],
   "source": [
    "df=demo[['participant_id','sex']]\n",
    "df['FID'] = df['participant_id']\n",
    "df['IID'] = df['participant_id']\n",
    "df = df[['FID', 'IID', 'sex']]\n",
    "df['sex'] = df['sex'].astype(str)\n",
    "df.sex[(df.sex == \"Male\")] = 1\n",
    "df.sex[(df.sex == \"Female\")] = 2\n",
    "df.columns = ['FID','IID', 'sex']\n",
    "df.head()\n"
   ]
  },
  {
   "cell_type": "code",
   "execution_count": 43,
   "metadata": {},
   "outputs": [],
   "source": [
    "with open('./plink_ROH/Input/Sample_Gender.tsv', 'w') as f:\n",
    "    f.write(df.to_csv(index=False, sep='\\t'))"
   ]
  },
  {
   "cell_type": "code",
   "execution_count": 46,
   "metadata": {},
   "outputs": [
    {
     "name": "stdout",
     "output_type": "stream",
     "text": [
      "checking Phentype data .....\n"
     ]
    },
    {
     "data": {
      "text/html": [
       "<div>\n",
       "<style scoped>\n",
       "    .dataframe tbody tr th:only-of-type {\n",
       "        vertical-align: middle;\n",
       "    }\n",
       "\n",
       "    .dataframe tbody tr th {\n",
       "        vertical-align: top;\n",
       "    }\n",
       "\n",
       "    .dataframe thead th {\n",
       "        text-align: right;\n",
       "    }\n",
       "</style>\n",
       "<table border=\"1\" class=\"dataframe\">\n",
       "  <thead>\n",
       "    <tr style=\"text-align: right;\">\n",
       "      <th></th>\n",
       "      <th>participant_id</th>\n",
       "      <th>diagnosis_at_baseline</th>\n",
       "      <th>diagnosis_latest</th>\n",
       "      <th>case_control_other_at_baseline</th>\n",
       "      <th>case_control_other_latest</th>\n",
       "    </tr>\n",
       "  </thead>\n",
       "  <tbody>\n",
       "    <tr>\n",
       "      <th>0</th>\n",
       "      <td>BF-1008</td>\n",
       "      <td>Idiopathic PD</td>\n",
       "      <td>Idiopathic PD</td>\n",
       "      <td>Case</td>\n",
       "      <td>Case</td>\n",
       "    </tr>\n",
       "    <tr>\n",
       "      <th>1</th>\n",
       "      <td>BF-1156</td>\n",
       "      <td>Idiopathic PD</td>\n",
       "      <td>Idiopathic PD</td>\n",
       "      <td>Case</td>\n",
       "      <td>Case</td>\n",
       "    </tr>\n",
       "    <tr>\n",
       "      <th>2</th>\n",
       "      <td>HB-PD_INVAM786LCH</td>\n",
       "      <td>No PD Nor Other Neurological Disorder</td>\n",
       "      <td>No PD Nor Other Neurological Disorder</td>\n",
       "      <td>Control</td>\n",
       "      <td>Control</td>\n",
       "    </tr>\n",
       "    <tr>\n",
       "      <th>3</th>\n",
       "      <td>HB-PD_INVBC055WLN</td>\n",
       "      <td>No PD Nor Other Neurological Disorder</td>\n",
       "      <td>No PD Nor Other Neurological Disorder</td>\n",
       "      <td>Control</td>\n",
       "      <td>Control</td>\n",
       "    </tr>\n",
       "    <tr>\n",
       "      <th>4</th>\n",
       "      <td>HB-PD_INVBP459TPD</td>\n",
       "      <td>Parkinson's Disease</td>\n",
       "      <td>Parkinson's Disease</td>\n",
       "      <td>Case</td>\n",
       "      <td>Case</td>\n",
       "    </tr>\n",
       "  </tbody>\n",
       "</table>\n",
       "</div>"
      ],
      "text/plain": [
       "      participant_id                  diagnosis_at_baseline  \\\n",
       "0            BF-1008                          Idiopathic PD   \n",
       "1            BF-1156                          Idiopathic PD   \n",
       "2  HB-PD_INVAM786LCH  No PD Nor Other Neurological Disorder   \n",
       "3  HB-PD_INVBC055WLN  No PD Nor Other Neurological Disorder   \n",
       "4  HB-PD_INVBP459TPD                    Parkinson's Disease   \n",
       "\n",
       "                        diagnosis_latest case_control_other_at_baseline  \\\n",
       "0                          Idiopathic PD                           Case   \n",
       "1                          Idiopathic PD                           Case   \n",
       "2  No PD Nor Other Neurological Disorder                        Control   \n",
       "3  No PD Nor Other Neurological Disorder                        Control   \n",
       "4                    Parkinson's Disease                           Case   \n",
       "\n",
       "  case_control_other_latest  \n",
       "0                      Case  \n",
       "1                      Case  \n",
       "2                   Control  \n",
       "3                   Control  \n",
       "4                      Case  "
      ]
     },
     "execution_count": 46,
     "metadata": {},
     "output_type": "execute_result"
    }
   ],
   "source": [
    "###add case control information\n",
    "print(\"checking Phentype data .....\")\n",
    "pheno = pd.read_csv('./plink_ROH/Input/amp_pd_case_control.csv', sep=',')\n",
    "pheno.head()"
   ]
  },
  {
   "cell_type": "code",
   "execution_count": 49,
   "metadata": {},
   "outputs": [
    {
     "name": "stderr",
     "output_type": "stream",
     "text": [
      "/usr/local/lib/python3.7/dist-packages/ipykernel_launcher.py:2: SettingWithCopyWarning: \n",
      "A value is trying to be set on a copy of a slice from a DataFrame.\n",
      "Try using .loc[row_indexer,col_indexer] = value instead\n",
      "\n",
      "See the caveats in the documentation: https://pandas.pydata.org/pandas-docs/stable/user_guide/indexing.html#returning-a-view-versus-a-copy\n",
      "  \n",
      "/usr/local/lib/python3.7/dist-packages/ipykernel_launcher.py:3: SettingWithCopyWarning: \n",
      "A value is trying to be set on a copy of a slice from a DataFrame.\n",
      "Try using .loc[row_indexer,col_indexer] = value instead\n",
      "\n",
      "See the caveats in the documentation: https://pandas.pydata.org/pandas-docs/stable/user_guide/indexing.html#returning-a-view-versus-a-copy\n",
      "  This is separate from the ipykernel package so we can avoid doing imports until\n"
     ]
    },
    {
     "data": {
      "text/html": [
       "<div>\n",
       "<style scoped>\n",
       "    .dataframe tbody tr th:only-of-type {\n",
       "        vertical-align: middle;\n",
       "    }\n",
       "\n",
       "    .dataframe tbody tr th {\n",
       "        vertical-align: top;\n",
       "    }\n",
       "\n",
       "    .dataframe thead th {\n",
       "        text-align: right;\n",
       "    }\n",
       "</style>\n",
       "<table border=\"1\" class=\"dataframe\">\n",
       "  <thead>\n",
       "    <tr style=\"text-align: right;\">\n",
       "      <th></th>\n",
       "      <th>FID</th>\n",
       "      <th>IID</th>\n",
       "      <th>status</th>\n",
       "    </tr>\n",
       "  </thead>\n",
       "  <tbody>\n",
       "    <tr>\n",
       "      <th>0</th>\n",
       "      <td>BF-1008</td>\n",
       "      <td>BF-1008</td>\n",
       "      <td>2</td>\n",
       "    </tr>\n",
       "    <tr>\n",
       "      <th>1</th>\n",
       "      <td>BF-1156</td>\n",
       "      <td>BF-1156</td>\n",
       "      <td>2</td>\n",
       "    </tr>\n",
       "    <tr>\n",
       "      <th>2</th>\n",
       "      <td>HB-PD_INVAM786LCH</td>\n",
       "      <td>HB-PD_INVAM786LCH</td>\n",
       "      <td>1</td>\n",
       "    </tr>\n",
       "    <tr>\n",
       "      <th>3</th>\n",
       "      <td>HB-PD_INVBC055WLN</td>\n",
       "      <td>HB-PD_INVBC055WLN</td>\n",
       "      <td>1</td>\n",
       "    </tr>\n",
       "    <tr>\n",
       "      <th>4</th>\n",
       "      <td>HB-PD_INVBP459TPD</td>\n",
       "      <td>HB-PD_INVBP459TPD</td>\n",
       "      <td>2</td>\n",
       "    </tr>\n",
       "  </tbody>\n",
       "</table>\n",
       "</div>"
      ],
      "text/plain": [
       "                 FID                IID status\n",
       "0            BF-1008            BF-1008      2\n",
       "1            BF-1156            BF-1156      2\n",
       "2  HB-PD_INVAM786LCH  HB-PD_INVAM786LCH      1\n",
       "3  HB-PD_INVBC055WLN  HB-PD_INVBC055WLN      1\n",
       "4  HB-PD_INVBP459TPD  HB-PD_INVBP459TPD      2"
      ]
     },
     "execution_count": 49,
     "metadata": {},
     "output_type": "execute_result"
    }
   ],
   "source": [
    "df=pheno[['participant_id','case_control_other_latest']]\n",
    "df['FID'] = df['participant_id']\n",
    "df['IID'] = df['participant_id']\n",
    "df['status'] = df['case_control_other_latest']\n",
    "df = df[['FID', 'IID', 'status']]\n",
    "df['status'] = df['status'].astype(str)\n",
    "df.status[(df.status == \"Control\")] = 1\n",
    "df.status[(df.status == \"Case\" )| (df.status == \"Other\")] = 2\n",
    "df.columns = ['FID','IID', 'status']\n",
    "df.head()"
   ]
  },
  {
   "cell_type": "code",
   "execution_count": 50,
   "metadata": {},
   "outputs": [],
   "source": [
    "with open('./plink_ROH/Input/Sample_Pheno.tsv', 'w') as f:\n",
    "    f.write(df.to_csv(index=False, sep='\\t'))"
   ]
  },
  {
   "cell_type": "code",
   "execution_count": 53,
   "metadata": {},
   "outputs": [
    {
     "name": "stderr",
     "output_type": "stream",
     "text": [
      "Executing: ./plink --bfile ./plink_ROH/Input/all_vcfs             --pheno ./plink_ROH/Input/Sample_Pheno.tsv             --update-sex ./plink_ROH/Input/Sample_Gender.tsv             --make-bed             --out ./plink_ROH/Input/all_vcfs_sex_pheno             --threads 2\n"
     ]
    },
    {
     "name": "stdout",
     "output_type": "stream",
     "text": [
      "PLINK v1.90b6.22 64-bit (16 Apr 2021)          www.cog-genomics.org/plink/1.9/\n",
      "(C) 2005-2021 Shaun Purcell, Christopher Chang   GNU General Public License v3\n",
      "Logging to ./plink_ROH/Input/all_vcfs_sex_pheno.log.\n",
      "Options in effect:\n",
      "  --bfile ./plink_ROH/Input/all_vcfs\n",
      "  --make-bed\n",
      "  --out ./plink_ROH/Input/all_vcfs_sex_pheno\n",
      "  --pheno ./plink_ROH/Input/Sample_Pheno.tsv\n",
      "  --threads 2\n",
      "  --update-sex ./plink_ROH/Input/Sample_Gender.tsv\n",
      "\n",
      "3704 MB RAM detected; reserving 1852 MB for main workspace.\n",
      "28791969 variants loaded from .bim file.\n",
      "3074 people (0 males, 0 females, 3074 ambiguous) loaded from .fam.\n",
      "Ambiguous sex IDs written to ./plink_ROH/Input/all_vcfs_sex_pheno.nosex .\n",
      "3074 phenotype values present after --pheno.\n",
      "--update-sex: 3074 people updated, 1225 IDs not present.\n",
      "Using 1 thread (no multithreaded calculations invoked).\n",
      "Before main variant filters, 3074 founders and 0 nonfounders present.\n",
      "Calculating allele frequencies... 10111213141516171819202122232425262728293031323334353637383940414243444546474849505152535455565758596061626364656667686970717273747576777879808182838485868788899091929394959697989 done.\n",
      "Warning: 14673747 het. haploid genotypes present (see\n",
      "./plink_ROH/Input/all_vcfs_sex_pheno.hh ); many commands treat these as\n",
      "missing.\n",
      "Warning: Nonmissing nonmale Y chromosome genotype(s) present; many commands\n",
      "treat these as missing.\n",
      "Total genotyping rate is 0.993972.\n",
      "28791969 variants and 3074 people pass filters and QC.\n",
      "Among remaining phenotypes, 1974 are cases and 1100 are controls.\n",
      "--make-bed to ./plink_ROH/Input/all_vcfs_sex_pheno.bed +\n",
      "./plink_ROH/Input/all_vcfs_sex_pheno.bim +\n",
      "./plink_ROH/Input/all_vcfs_sex_pheno.fam ... 101112131415161718192021222324252627282930313233343536373839404142434445464748495051525354555657585960616263646566676869707172737475767778798081828384858687888990919293949596979899done.\n"
     ]
    }
   ],
   "source": [
    "shell_do(f'./plink --bfile ./plink_ROH/Input/all_vcfs \\\n",
    "            --pheno ./plink_ROH/Input/Sample_Pheno.tsv \\\n",
    "            --update-sex ./plink_ROH/Input/Sample_Gender.tsv \\\n",
    "            --make-bed \\\n",
    "            --out ./plink_ROH/Input/all_vcfs_sex_pheno \\\n",
    "            --threads 2')"
   ]
  },
  {
   "cell_type": "code",
   "execution_count": 57,
   "metadata": {},
   "outputs": [
    {
     "name": "stdout",
     "output_type": "stream",
     "text": [
      "Checking Gender and phenotype information .....\n",
      "BF-1001 BF-1001 0 0 1 1\n",
      "BF-1002 BF-1002 0 0 2 2\n",
      "BF-1003 BF-1003 0 0 1 2\n"
     ]
    }
   ],
   "source": [
    "%%bash\n",
    "echo \"Checking Gender and phenotype information .....\"\n",
    "head -n3 ./plink_ROH/Input/all_vcfs_sex_pheno.fam\n"
   ]
  },
  {
   "cell_type": "code",
   "execution_count": 65,
   "metadata": {},
   "outputs": [
    {
     "name": "stdout",
     "output_type": "stream",
     "text": [
      "1\trs201752861\t0\t10177\t*\tA\n",
      "1\trs201694901\t0\t10180\tC\tT\n",
      "1\trs199706086\t0\t10250\tC\tA\n"
     ]
    }
   ],
   "source": [
    "%%bash\n",
    "head -n3 ./plink_ROH/Input/all_vcfs_sex_pheno.bim\n"
   ]
  },
  {
   "cell_type": "code",
   "execution_count": 67,
   "metadata": {},
   "outputs": [],
   "source": [
    "%%bash\n",
    "###keep biallelic snps\n",
    " cat  ./plink_ROH/Input/all_vcfs_sex_pheno.bim | grep -v \"*\" |awk '{if((length($5)==1) && (length($6)==1)) print }'|cut -f2 > ./plink_ROH/Input/snp.keep\n",
    " "
   ]
  },
  {
   "cell_type": "code",
   "execution_count": 21,
   "metadata": {
    "scrolled": false
   },
   "outputs": [
    {
     "name": "stderr",
     "output_type": "stream",
     "text": [
      "Executing: ./plink --bfile ./plink_ROH/Input/all_vcfs_sex_pheno             --extract ./plink_ROH/Input/snp.keep             --make-bed --out ./plink_ROH/Input/all_vcfs_sex_pheno_biallelic\n"
     ]
    },
    {
     "name": "stdout",
     "output_type": "stream",
     "text": [
      "PLINK v1.90b6.22 64-bit (16 Apr 2021)          www.cog-genomics.org/plink/1.9/\n",
      "(C) 2005-2021 Shaun Purcell, Christopher Chang   GNU General Public License v3\n",
      "Logging to ./plink_ROH/Input/all_vcfs_sex_pheno_biallelic.log.\n",
      "Options in effect:\n",
      "  --bfile ./plink_ROH/Input/all_vcfs_sex_pheno\n",
      "  --extract ./plink_ROH/Input/snp.keep\n",
      "  --make-bed\n",
      "  --out ./plink_ROH/Input/all_vcfs_sex_pheno_biallelic\n",
      "\n",
      "3704 MB RAM detected; reserving 1852 MB for main workspace.\n",
      "28791969 variants loaded from .bim file.\n",
      "3074 people (1721 males, 1353 females) loaded from .fam.\n",
      "3074 phenotype values loaded from .fam.\n",
      "--extract: 26519563 variants remaining.\n",
      "Using 1 thread.\n",
      "Before main variant filters, 3074 founders and 0 nonfounders present.\n",
      "Calculating allele frequencies... 10111213141516171819202122232425262728293031323334353637383940414243444546474849505152535455565758596061626364656667686970717273747576777879808182838485868788899091929394959697989 done.\n",
      "Warning: 13463234 het. haploid genotypes present (see\n",
      "./plink_ROH/Input/all_vcfs_sex_pheno_biallelic.hh ); many commands treat these\n",
      "as missing.\n",
      "Warning: Nonmissing nonmale Y chromosome genotype(s) present; many commands\n",
      "treat these as missing.\n",
      "Total genotyping rate is 0.997152.\n",
      "26519563 variants and 3074 people pass filters and QC.\n",
      "Among remaining phenotypes, 1974 are cases and 1100 are controls.\n",
      "--make-bed to ./plink_ROH/Input/all_vcfs_sex_pheno_biallelic.bed +\n",
      "./plink_ROH/Input/all_vcfs_sex_pheno_biallelic.bim +\n",
      "./plink_ROH/Input/all_vcfs_sex_pheno_biallelic.fam ... 101112131415161718192021222324252627282930313233343536373839404142434445464748495051525354555657585960616263646566676869707172737475767778798081828384858687888990919293949596979899done.\n"
     ]
    }
   ],
   "source": [
    "shell_do(f'./plink --bfile ./plink_ROH/Input/all_vcfs_sex_pheno \\\n",
    "            --extract ./plink_ROH/Input/snp.keep \\\n",
    "            --make-bed --out ./plink_ROH/Input/all_vcfs_sex_pheno_biallelic')"
   ]
  },
  {
   "cell_type": "code",
   "execution_count": 23,
   "metadata": {},
   "outputs": [
    {
     "name": "stderr",
     "output_type": "stream",
     "text": [
      "Executing: gsutil -m -u gp2-ipdgc-hackathon mv ./plink_ROH/Input/all_vcfs_sex_pheno.* gs://fc-secure-90f2e0a1-f2e0-4d16-bdf0-ec7fb247a6d3\n"
     ]
    },
    {
     "name": "stdout",
     "output_type": "stream",
     "text": [
      "Copying file://./plink_ROH/Input/all_vcfs_sex_pheno.bed [Content-Type=application/octet-stream]...\n",
      "Copying file://./plink_ROH/Input/all_vcfs_sex_pheno.bim [Content-Type=application/octet-stream]...\n",
      "Copying file://./plink_ROH/Input/all_vcfs_sex_pheno.fam [Content-Type=application/octet-stream]...\n",
      "Copying file://./plink_ROH/Input/all_vcfs_sex_pheno.hh [Content-Type=text/x-c++hdr]...\n",
      "Copying file://./plink_ROH/Input/all_vcfs_sex_pheno.log [Content-Type=application/octet-stream]...\n",
      "==> NOTE: You are uploading one or more large file(s), which would run          \n",
      "significantly faster if you enable parallel composite uploads. This\n",
      "feature can be enabled by editing the\n",
      "\"parallel_composite_upload_threshold\" value in your .boto\n",
      "configuration file. However, note that if you do this large files will\n",
      "be uploaded as `composite objects\n",
      "<https://cloud.google.com/storage/docs/composite-objects>`_,which\n",
      "means that any user who downloads such objects will need to have a\n",
      "compiled crcmod installed (see \"gsutil help crcmod\"). This is because\n",
      "without a compiled crcmod, computing checksums on composite objects is\n",
      "so slow that gsutil disables downloads of composite objects.\n",
      "\n",
      "Removing file://./plink_ROH/Input/all_vcfs_sex_pheno.log...                     \n",
      "Copying file://./plink_ROH/Input/all_vcfs_sex_pheno.nosex [Content-Type=application/octet-stream]...\n",
      "Removing file://./plink_ROH/Input/all_vcfs_sex_pheno.fam...                     \n",
      "Removing file://./plink_ROH/Input/all_vcfs_sex_pheno.nosex...                   \n",
      "Removing file://./plink_ROH/Input/all_vcfs_sex_pheno.hh...TA 00:04:12           \n",
      "Removing file://./plink_ROH/Input/all_vcfs_sex_pheno.bim...A 00:04:03           \n",
      "/ [6/6 files][ 21.9 GiB/ 21.9 GiB] 100% Done  12.6 MiB/s ETA 00:00:00           \n",
      "Operation completed over 6 objects/21.9 GiB.                                     \n",
      "Removing file://./plink_ROH/Input/all_vcfs_sex_pheno.bed...\n"
     ]
    }
   ],
   "source": [
    "shell_do(f'gsutil -m -u {BILLING_PROJECT_ID} mv ./plink_ROH/Input/all_vcfs_sex_pheno.* {WORKSPACE_BUCKET}')"
   ]
  },
  {
   "cell_type": "code",
   "execution_count": 24,
   "metadata": {},
   "outputs": [
    {
     "name": "stdout",
     "output_type": "stream",
     "text": [
      "total 21G\n",
      "-rw-rw-r-- 1 jupyter-user users  501 May 11 21:56 all_vcfs.log\n",
      "-rw-rw-r-- 1 jupyter-user users  19G May 12 14:52 all_vcfs_sex_pheno_biallelic.bed\n",
      "-rw-rw-r-- 1 jupyter-user users 734M May 12 14:52 all_vcfs_sex_pheno_biallelic.bim\n",
      "-rw-rw-r-- 1 jupyter-user users  91K May 12 14:52 all_vcfs_sex_pheno_biallelic.fam\n",
      "-rw-rw-r-- 1 jupyter-user users 430M May 12 14:00 all_vcfs_sex_pheno_biallelic.hh\n",
      "-rw-rw-r-- 1 jupyter-user users 1.4K May 12 14:53 all_vcfs_sex_pheno_biallelic.log\n",
      "-rw-rw-r-- 1 jupyter-user users    0 May 12 12:47 all_vcfs_sex_pheno_QC.log\n",
      "-rw-rw-r-- 1 jupyter-user users 114K May 12 01:30 Sample_Gender.tsv\n",
      "-rw-rw-r-- 1 jupyter-user users 114K May 12 01:44 Sample_Pheno.tsv\n",
      "-rw-rw-r-- 1 jupyter-user users 288M May 12 03:03 snp.keep\n"
     ]
    }
   ],
   "source": [
    "%%bash\n",
    "\n",
    "ls -lh ./plink_ROH/Input/\n"
   ]
  },
  {
   "cell_type": "code",
   "execution_count": 26,
   "metadata": {},
   "outputs": [
    {
     "name": "stderr",
     "output_type": "stream",
     "text": [
      "Executing: ./plink --bfile ./plink_ROH/Input/all_vcfs_sex_pheno_biallelic             --hwe 0.0001 --maf 0.05             --indep 50 5 1.5             --out ./plink_ROH/Input/all_vcfs_sex_pheno_biallelic.LD\n"
     ]
    },
    {
     "name": "stdout",
     "output_type": "stream",
     "text": [
      "PLINK v1.90b6.22 64-bit (16 Apr 2021)          www.cog-genomics.org/plink/1.9/\n",
      "(C) 2005-2021 Shaun Purcell, Christopher Chang   GNU General Public License v3\n",
      "Logging to ./plink_ROH/Input/all_vcfs_sex_pheno_biallelic.LD.log.\n",
      "Options in effect:\n",
      "  --bfile ./plink_ROH/Input/all_vcfs_sex_pheno_biallelic\n",
      "  --hwe 0.0001\n",
      "  --indep 50 5 1.5\n",
      "  --maf 0.05\n",
      "  --out ./plink_ROH/Input/all_vcfs_sex_pheno_biallelic.LD\n",
      "\n",
      "3704 MB RAM detected; reserving 1852 MB for main workspace.\n",
      "26519563 variants loaded from .bim file.\n",
      "3074 people (1721 males, 1353 females) loaded from .fam.\n",
      "3074 phenotype values loaded from .fam.\n",
      "Using 1 thread.\n",
      "Before main variant filters, 3074 founders and 0 nonfounders present.\n",
      "Calculating allele frequencies... 10111213141516171819202122232425262728293031323334353637383940414243444546474849505152535455565758596061626364656667686970717273747576777879808182838485868788899091929394959697989 done.\n",
      "Warning: 13463234 het. haploid genotypes present (see\n",
      "./plink_ROH/Input/all_vcfs_sex_pheno_biallelic.LD.hh ); many commands treat\n",
      "these as missing.\n",
      "Warning: Nonmissing nonmale Y chromosome genotype(s) present; many commands\n",
      "treat these as missing.\n",
      "Total genotyping rate is 0.997152.\n",
      "Warning: --hwe observation counts vary by more than 10%.  Consider using\n",
      "--geno, and/or applying different p-value thresholds to distinct subsets of\n",
      "your data.\n",
      "--hwe: 409516 variants removed due to Hardy-Weinberg exact test.\n",
      "19909400 variants removed due to minor allele threshold(s)\n",
      "(--maf/--max-maf/--mac/--max-mac).\n",
      "6200647 variants and 3074 people pass filters and QC.\n",
      "Among remaining phenotypes, 1974 are cases and 1100 are controls.\n",
      "Pruned 422128 variants from chromosome 1, leaving 35320.\n",
      "Pruned 461192 variants from chromosome 2, leaving 37098.\n",
      "Pruned 394994 variants from chromosome 3, leaving 31959.\n",
      "Pruned 411364 variants from chromosome 4, leaving 32138.\n",
      "Pruned 358773 variants from chromosome 5, leaving 28523.\n",
      "Pruned 375423 variants from chromosome 6, leaving 30338.\n",
      "Pruned 327981 variants from chromosome 7, leaving 27368.\n",
      "Pruned 306729 variants from chromosome 8, leaving 24573.\n",
      "Pruned 241437 variants from chromosome 9, leaving 21484.\n",
      "Pruned 286874 variants from chromosome 10, leaving 23784.\n",
      "Pruned 281759 variants from chromosome 11, leaving 22599.\n",
      "Pruned 267053 variants from chromosome 12, leaving 22336.\n",
      "Pruned 206189 variants from chromosome 13, leaving 16990.\n",
      "Pruned 179556 variants from chromosome 14, leaving 15373.\n",
      "Pruned 158128 variants from chromosome 15, leaving 14122.\n",
      "Pruned 169300 variants from chromosome 16, leaving 15561.\n",
      "Pruned 145337 variants from chromosome 17, leaving 13640.\n",
      "Pruned 158832 variants from chromosome 18, leaving 13824.\n",
      "Pruned 127737 variants from chromosome 19, leaving 11929.\n",
      "Pruned 122594 variants from chromosome 20, leaving 11123.\n",
      "Pruned 79341 variants from chromosome 21, leaving 7603.\n",
      "Pruned 75636 variants from chromosome 22, leaving 7630.\n",
      "Pruned 160196 variants from chromosome 23, leaving 13334.\n",
      "Pruned 3259 variants from chromosome 24, leaving 186.\n",
      "Pruning complete.  5721812 of 6200647 variants removed.\n",
      "Marker lists written to\n",
      "./plink_ROH/Input/all_vcfs_sex_pheno_biallelic.LD.prune.in and\n",
      "./plink_ROH/Input/all_vcfs_sex_pheno_biallelic.LD.prune.out .\n"
     ]
    }
   ],
   "source": [
    "### remove snps in high LD\n",
    "shell_do(f'./plink --bfile ./plink_ROH/Input/all_vcfs_sex_pheno_biallelic \\\n",
    "            --hwe 0.0001 --maf 0.05 \\\n",
    "            --indep 50 5 1.5 \\\n",
    "            --out ./plink_ROH/Input/all_vcfs_sex_pheno_biallelic.LD')"
   ]
  },
  {
   "cell_type": "code",
   "execution_count": 27,
   "metadata": {},
   "outputs": [
    {
     "name": "stderr",
     "output_type": "stream",
     "text": [
      "Executing: ./plink --bfile ./plink_ROH/Input/all_vcfs_sex_pheno_biallelic             --extract ./plink_ROH/Input/all_vcfs_sex_pheno_biallelic.LD.prune.in             --make-bed --out ./plink_ROH/Input/all_vcfs_sex_pheno_biallelic.LD.Prunned\n"
     ]
    },
    {
     "name": "stdout",
     "output_type": "stream",
     "text": [
      "PLINK v1.90b6.22 64-bit (16 Apr 2021)          www.cog-genomics.org/plink/1.9/\n",
      "(C) 2005-2021 Shaun Purcell, Christopher Chang   GNU General Public License v3\n",
      "Logging to ./plink_ROH/Input/all_vcfs_sex_pheno_biallelic.LD.Prunned.log.\n",
      "Options in effect:\n",
      "  --bfile ./plink_ROH/Input/all_vcfs_sex_pheno_biallelic\n",
      "  --extract ./plink_ROH/Input/all_vcfs_sex_pheno_biallelic.LD.prune.in\n",
      "  --make-bed\n",
      "  --out ./plink_ROH/Input/all_vcfs_sex_pheno_biallelic.LD.Prunned\n",
      "\n",
      "3704 MB RAM detected; reserving 1852 MB for main workspace.\n",
      "26519563 variants loaded from .bim file.\n",
      "3074 people (1721 males, 1353 females) loaded from .fam.\n",
      "3074 phenotype values loaded from .fam.\n",
      "--extract: 478835 variants remaining.\n",
      "Using 1 thread.\n",
      "Before main variant filters, 3074 founders and 0 nonfounders present.\n",
      "Calculating allele frequencies... 10111213141516171819202122232425262728293031323334353637383940414243444546474849505152535455565758596061626364656667686970717273747576777879808182838485868788899091929394959697989 done.\n",
      "Warning: 202544 het. haploid genotypes present (see\n",
      "./plink_ROH/Input/all_vcfs_sex_pheno_biallelic.LD.Prunned.hh ); many commands\n",
      "treat these as missing.\n",
      "Warning: Nonmissing nonmale Y chromosome genotype(s) present; many commands\n",
      "treat these as missing.\n",
      "Total genotyping rate is 0.985849.\n",
      "478835 variants and 3074 people pass filters and QC.\n",
      "Among remaining phenotypes, 1974 are cases and 1100 are controls.\n",
      "--make-bed to ./plink_ROH/Input/all_vcfs_sex_pheno_biallelic.LD.Prunned.bed +\n",
      "./plink_ROH/Input/all_vcfs_sex_pheno_biallelic.LD.Prunned.bim +\n",
      "./plink_ROH/Input/all_vcfs_sex_pheno_biallelic.LD.Prunned.fam ... 101112131415161718192021222324252627282930313233343536373839404142434445464748495051525354555657585960616263646566676869707172737475767778798081828384858687888990919293949596979899done.\n"
     ]
    }
   ],
   "source": [
    "shell_do(f'./plink --bfile ./plink_ROH/Input/all_vcfs_sex_pheno_biallelic \\\n",
    "            --extract ./plink_ROH/Input/all_vcfs_sex_pheno_biallelic.LD.prune.in \\\n",
    "            --make-bed --out ./plink_ROH/Input/all_vcfs_sex_pheno_biallelic.LD.Prunned')"
   ]
  },
  {
   "cell_type": "code",
   "execution_count": 28,
   "metadata": {},
   "outputs": [
    {
     "name": "stdout",
     "output_type": "stream",
     "text": [
      "total 22G\n",
      "-rw-rw-r-- 1 jupyter-user users  501 May 11 21:56 all_vcfs.log\n",
      "-rw-rw-r-- 1 jupyter-user users  19G May 12 14:52 all_vcfs_sex_pheno_biallelic.bed\n",
      "-rw-rw-r-- 1 jupyter-user users 734M May 12 14:52 all_vcfs_sex_pheno_biallelic.bim\n",
      "-rw-rw-r-- 1 jupyter-user users  91K May 12 14:52 all_vcfs_sex_pheno_biallelic.fam\n",
      "-rw-rw-r-- 1 jupyter-user users 430M May 12 14:00 all_vcfs_sex_pheno_biallelic.hh\n",
      "-rw-rw-r-- 1 jupyter-user users 430M May 12 15:50 all_vcfs_sex_pheno_biallelic.LD.hh\n",
      "-rw-rw-r-- 1 jupyter-user users 3.1K May 12 16:12 all_vcfs_sex_pheno_biallelic.LD.log\n",
      "-rw-rw-r-- 1 jupyter-user users 5.0M May 12 16:12 all_vcfs_sex_pheno_biallelic.LD.prune.in\n",
      "-rw-rw-r-- 1 jupyter-user users  58M May 12 16:12 all_vcfs_sex_pheno_biallelic.LD.prune.out\n",
      "-rw-rw-r-- 1 jupyter-user users 352M May 12 16:25 all_vcfs_sex_pheno_biallelic.LD.Prunned.bed\n",
      "-rw-rw-r-- 1 jupyter-user users  14M May 12 16:25 all_vcfs_sex_pheno_biallelic.LD.Prunned.bim\n",
      "-rw-rw-r-- 1 jupyter-user users  91K May 12 16:25 all_vcfs_sex_pheno_biallelic.LD.Prunned.fam\n",
      "-rw-rw-r-- 1 jupyter-user users 6.5M May 12 16:20 all_vcfs_sex_pheno_biallelic.LD.Prunned.hh\n",
      "-rw-rw-r-- 1 jupyter-user users 1.5K May 12 16:25 all_vcfs_sex_pheno_biallelic.LD.Prunned.log\n",
      "-rw-rw-r-- 1 jupyter-user users 1.4K May 12 14:53 all_vcfs_sex_pheno_biallelic.log\n",
      "-rw-rw-r-- 1 jupyter-user users    0 May 12 12:47 all_vcfs_sex_pheno_QC.log\n",
      "-rw-rw-r-- 1 jupyter-user users 114K May 12 01:30 Sample_Gender.tsv\n",
      "-rw-rw-r-- 1 jupyter-user users 114K May 12 01:44 Sample_Pheno.tsv\n",
      "-rw-rw-r-- 1 jupyter-user users 288M May 12 03:03 snp.keep\n"
     ]
    }
   ],
   "source": [
    "%%bash \n",
    "ls -lh ./plink_ROH/Input/\n"
   ]
  },
  {
   "cell_type": "code",
   "execution_count": 29,
   "metadata": {},
   "outputs": [
    {
     "name": "stderr",
     "output_type": "stream",
     "text": [
      "Executing: ./plink --bfile ./plink_ROH/Input/all_vcfs_sex_pheno_biallelic.LD.Prunned              --homozyg -homozyg-window-snp 50              --homozyg-snp 50              --homozyg-window-missing 3              --homozyg-kb 100 --homozyg-density 1000              --out  ./plink_ROH/Output/all_vcfs_sex_pheno_biallelic.LD.Prunned.ROH\n"
     ]
    },
    {
     "name": "stdout",
     "output_type": "stream",
     "text": [
      "PLINK v1.90b6.22 64-bit (16 Apr 2021)          www.cog-genomics.org/plink/1.9/\n",
      "(C) 2005-2021 Shaun Purcell, Christopher Chang   GNU General Public License v3\n",
      "Logging to ./plink_ROH/Output/all_vcfs_sex_pheno_biallelic.LD.Prunned.ROH.log.\n",
      "Options in effect:\n",
      "  --bfile ./plink_ROH/Input/all_vcfs_sex_pheno_biallelic.LD.Prunned\n",
      "  --homozyg\n",
      "  --homozyg-density 1000\n",
      "  --homozyg-kb 100\n",
      "  --homozyg-snp 50\n",
      "  --homozyg-window-missing 3\n",
      "  --homozyg-window-snp 50\n",
      "  --out ./plink_ROH/Output/all_vcfs_sex_pheno_biallelic.LD.Prunned.ROH\n",
      "\n",
      "3704 MB RAM detected; reserving 1852 MB for main workspace.\n",
      "478835 variants loaded from .bim file.\n",
      "3074 people (1721 males, 1353 females) loaded from .fam.\n",
      "3074 phenotype values loaded from .fam.\n",
      "Using 1 thread.\n",
      "Before main variant filters, 3074 founders and 0 nonfounders present.\n",
      "Calculating allele frequencies... 10111213141516171819202122232425262728293031323334353637383940414243444546474849505152535455565758596061626364656667686970717273747576777879808182838485868788899091929394959697989 done.\n",
      "Warning: 202544 het. haploid genotypes present (see\n",
      "./plink_ROH/Output/all_vcfs_sex_pheno_biallelic.LD.Prunned.ROH.hh ); many\n",
      "commands treat these as missing.\n",
      "Warning: Nonmissing nonmale Y chromosome genotype(s) present; many commands\n",
      "treat these as missing.\n",
      "Total genotyping rate is 0.985849.\n",
      "478835 variants and 3074 people pass filters and QC.\n",
      "Among remaining phenotypes, 1974 are cases and 1100 are controls.\n",
      "--homozyg: Scan complete, found 768355 ROH.\n",
      "Results saved to\n",
      "./plink_ROH/Output/all_vcfs_sex_pheno_biallelic.LD.Prunned.ROH.hom +\n",
      "./plink_ROH/Output/all_vcfs_sex_pheno_biallelic.LD.Prunned.ROH.hom.indiv +\n",
      "./plink_ROH/Output/all_vcfs_sex_pheno_biallelic.LD.Prunned.ROH.hom.summary .\n"
     ]
    }
   ],
   "source": [
    "shell_do(f'./plink --bfile ./plink_ROH/Input/all_vcfs_sex_pheno_biallelic.LD.Prunned \\\n",
    "             --homozyg -homozyg-window-snp 50 \\\n",
    "             --homozyg-snp 50 \\\n",
    "             --homozyg-window-missing 3 \\\n",
    "             --homozyg-kb 100 --homozyg-density 1000 \\\n",
    "             --out  ./plink_ROH/Output/all_vcfs_sex_pheno_biallelic.LD.Prunned.ROH')"
   ]
  },
  {
   "cell_type": "code",
   "execution_count": null,
   "metadata": {},
   "outputs": [],
   "source": []
  }
 ],
 "metadata": {
  "kernelspec": {
   "display_name": "Python 3",
   "language": "python",
   "name": "python3"
  },
  "language_info": {
   "codemirror_mode": {
    "name": "ipython",
    "version": 3
   },
   "file_extension": ".py",
   "mimetype": "text/x-python",
   "name": "python",
   "nbconvert_exporter": "python",
   "pygments_lexer": "ipython3",
   "version": "3.7.12"
  },
  "toc": {
   "base_numbering": 1,
   "nav_menu": {},
   "number_sections": true,
   "sideBar": true,
   "skip_h1_title": false,
   "title_cell": "Table of Contents",
   "title_sidebar": "Contents",
   "toc_cell": false,
   "toc_position": {},
   "toc_section_display": true,
   "toc_window_display": false
  }
 },
 "nbformat": 4,
 "nbformat_minor": 2
}
