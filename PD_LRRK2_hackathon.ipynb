{
 "cells": [
  {
   "cell_type": "markdown",
   "id": "e49e3ff7-f4c6-469a-a925-7fa15cce84dd",
   "metadata": {},
   "source": [
    "# Setting up<a href=\"#Setting-up\" class=\"anchor-link\"></a>"
   ]
  },
  {
   "cell_type": "code",
   "execution_count": null,
   "id": "a456de20-1bcb-4ddc-b565-fccb3dbaef3c",
   "metadata": {},
   "outputs": [],
   "source": [
    " !pip install rpy2"
   ]
  },
  {
   "cell_type": "code",
   "execution_count": null,
   "id": "932119af-4139-4081-af7b-f8311565f362",
   "metadata": {},
   "outputs": [],
   "source": [
    "    #Set up libraries\n",
    "\n",
    "    # Use the os package to interact with the environment\n",
    "    import os\n",
    "\n",
    "    # Bring in Pandas for Dataframe functionality\n",
    "    import pandas as pd\n",
    "\n",
    "    # numpy for basics\n",
    "    import numpy as np\n",
    "\n",
    "    import sys\n",
    "    import subprocess\n",
    "    import glob\n",
    "    from functools import partial \n",
    "    from os import chdir\n",
    "    import io\n",
    "    import time\n",
    "    import matplotlib.pyplot as plt\n",
    "    import seaborn as sns\n",
    "\n",
    "\n",
    "    # Use StringIO for working with file contents\n",
    "    from io import StringIO\n",
    "\n",
    "    # Enable IPython to display matplotlib graphs\n",
    "    import matplotlib.pyplot as plt\n",
    "    %matplotlib inline\n",
    "\n",
    "    # Enable interaction with the FireCloud API\n",
    "    from firecloud import api as fapi\n",
    "\n",
    "    # Import the iPython HTML rendering for displaying links to Google Cloud Console\n",
    "    from IPython.core.display import display, HTML\n",
    "\n",
    "    # Import urllib modules for building URLs to Google Cloud Console\n",
    "    import urllib.parse\n",
    "\n",
    "    # BigQuery for querying data\n",
    "    from google.cloud import bigquery\n",
    "\n",
    "    # Installing and importing rpy2 \n",
    "    import rpy2.rinterface"
   ]
  },
  {
   "cell_type": "code",
   "execution_count": null,
   "id": "302a4b8c-1639-4206-83e5-74c26813271c",
   "metadata": {},
   "outputs": [],
   "source": [
    "%load_ext rpy2.ipython"
   ]
  },
  {
   "cell_type": "code",
   "execution_count": null,
   "id": "c7ef7a5b-d51d-4961-9608-523cdf1ff00f",
   "metadata": {},
   "outputs": [],
   "source": [
    "#Setting paths\n",
    "\n",
    "BILLING_PROJECT_ID = os.environ['GOOGLE_PROJECT']\n",
    "WORKSPACE_NAMESPACE = os.environ['WORKSPACE_NAMESPACE']\n",
    "WORKSPACE_NAME = os.environ['WORKSPACE_NAME']\n",
    "WORKSPACE_BUCKET = os.environ['WORKSPACE_BUCKET']\n",
    "\n",
    "WORKSPACE_ATTRIBUTES = fapi.get_workspace(WORKSPACE_NAMESPACE, WORKSPACE_NAME).json().get('workspace',{}).get('attributes',{})\n",
    "\n",
    "GS_RELEASE_PATH = 'gs://amp-pd-data/releases/2021_v2-5release_0510'\n",
    "GS_CLINICAL_RELEASE_PATH = f'{GS_RELEASE_PATH}/clinical/'\n",
    "GS_MUTATION_RELEASE_PATH = 'gs://amp-pd-data-tier2/releases/2021_v2-5release_0510'\n",
    "\n",
    "GS_WGS_RELEASE_PATH = 'gs://amp-pd-genomics/releases/2021_v2-5release_0510/wgs'\n",
    "GS_WGS_RELEASE_PLINK_PATH = os.path.join(GS_WGS_RELEASE_PATH, 'plink')\n",
    "GS_WGS_RELEASE_GATK_PATH = os.path.join(GS_WGS_RELEASE_PATH, 'gatk')\n",
    "\n",
    "\n",
    "BQ_RELEASE_DATASET = 'amp-pd-research.2021_v2-5release_0510'\n",
    "\n",
    "\n",
    "print(BILLING_PROJECT_ID)\n",
    "print(GS_CLINICAL_RELEASE_PATH)\n",
    "print(GS_WGS_RELEASE_PLINK_PATH)\n",
    "print(GS_WGS_RELEASE_GATK_PATH)"
   ]
  },
  {
   "cell_type": "code",
   "execution_count": null,
   "id": "5f73cb74-ce05-4e23-89ce-b0091b647fac",
   "metadata": {},
   "outputs": [],
   "source": [
    "# # Utility routine for printing a shell command before executing it\n",
    "def shell_do(command):\n",
    "    print(f'Executing: {command}')\n",
    "    !$command\n",
    "\n",
    "def shell_return(command):\n",
    "    print(f'Executing: {command}', file=sys.stderr)\n",
    "    output = !$command\n",
    "    return '\\n'.join(output)\n",
    "\n",
    "\n",
    "# Utility routine for display a message and a link\n",
    "def display_html_link(description, link_text, url):\n",
    "    html = f'''\n",
    "    <p>\n",
    "    </p>\n",
    "    <p>\n",
    "    {description}\n",
    "    <a target=_blank href=\"{url}\">{link_text}</a>.\n",
    "    </p>\n",
    "    '''\n",
    "\n",
    "    display(HTML(html))\n",
    "    \n",
    "# Utility routines for reading files from Google Cloud Storage\n",
    "def gcs_read_file(path):\n",
    "    \"\"\"Return the contents of a file in GCS\"\"\"\n",
    "    contents = !gsutil -u {BILLING_PROJECT_ID} cat {path}\n",
    "    return '\\n'.join(contents)\n",
    "    \n",
    "def gcs_read_csv(path, sep=None):\n",
    "    \"\"\"Return a DataFrame from the contents of a delimited file in GCS\"\"\"\n",
    "    return pd.read_csv(StringIO(gcs_read_file(path)), sep=sep, engine='python')\n",
    "\n",
    "# Utility routine for displaying a message and link to Cloud Console\n",
    "def link_to_cloud_console_gcs(description, link_text, gcs_path):\n",
    "    url = '{}?{}'.format(\n",
    "        os.path.join('https://console.cloud.google.com/storage/browser',\n",
    "                     gcs_path.replace(\"gs://\",\"\")),\n",
    "        urllib.parse.urlencode({'userProject': BILLING_PROJECT_ID}))\n",
    "\n",
    "    display_html_link(description, link_text, url)\n",
    "    \n",
    "# Get the data from a query\n",
    "def bq_query(query):\n",
    "    print(f'Executing: {query}', file=sys.stderr)\n",
    "    return pd.read_gbq(query, project_id=BILLING_PROJECT_ID, dialect='standard')\n",
    "\n",
    "# Utility routine for displaying a message and link to Cloud Console\n",
    "def link_to_cloud_console_gcs(description, link_text, gcs_path):\n",
    "    url = '{}?{}'.format(\n",
    "        os.path.join('https://console.cloud.google.com/storage/browser',\n",
    "                     gcs_path.replace(\"gs://\",\"\")),\n",
    "        urllib.parse.urlencode({'userProject': BILLING_PROJECT_ID}))\n",
    "\n",
    "    display_html_link(description, link_text, url)\n",
    "    \n",
    "# Utility routine for displaying a message and link to Cloud Console\n",
    "def link_to_cloud_console_bq(description, link_text, bq_dataset, bq_table=None):\n",
    "    project, dataset = bq_dataset.split('.', 1)\n",
    "    if bq_table:\n",
    "        page_params = {'page': 'table', 'p': project, 'd': dataset, 't': bq_table}\n",
    "    else:\n",
    "        page_params = {'page': 'dataset', 'p': project, 'd': dataset}\n",
    "    \n",
    "    url = '{}?{}'.format(\n",
    "        'https://console.cloud.google.com/bigquery',\n",
    "        urllib.parse.urlencode(page_params))\n",
    "\n",
    "    display_html_link(description, link_text, url)    \n",
    "\n",
    "# Utility routine for printing a query before executing it\n",
    "def bq_query(query):\n",
    "    \"\"\"Return the contents of a query against BigQuery\"\"\"\n",
    "    return pd.read_gbq(\n",
    "        query,\n",
    "        project_id=BILLING_PROJECT_ID,\n",
    "        dialect='standard')"
   ]
  },
  {
   "cell_type": "code",
   "execution_count": null,
   "id": "ea161d88-7dcd-4fc7-94d8-70aebcbad9f6",
   "metadata": {},
   "outputs": [],
   "source": [
    "%%R\n",
    "if (!require(tidyverse)) install.packages('tidyr')\n",
    "if (!require(data.table)) install.packages('data.table')\n",
    "if (!require(dplyr)) install.packages('dplyr')\n",
    "if (!require(plyr)) install.packages('plyr')\n",
    "if (!require(ggplot2)) install.packages('ggplot2')\n",
    "if (!require(caret)) install.packages('caret')\n",
    "\n",
    "\n",
    "# Load the necessary packages \n",
    "library(tidyr)\n",
    "library(data.table)\n",
    "library(dplyr)\n",
    "library(plyr)\n",
    "library(ggplot2)\n",
    "library(caret)"
   ]
  },
  {
   "cell_type": "markdown",
   "id": "39f37bf9-c10c-46b6-a0e8-5ec3cfe7daab",
   "metadata": {},
   "source": [
    "# Preparing clinical files<a href=\"#Preparing-clinical-files\" class=\"anchor-link\"></a>"
   ]
  },
  {
   "cell_type": "code",
   "execution_count": null,
   "id": "2d11ad3c-a8e7-4376-a69f-c762d0b94454",
   "metadata": {},
   "outputs": [],
   "source": [
    "# Importing everyone with clinical data\n",
    "demographics_df = gcs_read_csv(os.path.join(GS_CLINICAL_RELEASE_PATH, 'Demographics.csv'))\n",
    "demographics_df.rename(columns = {'participant_id':'ID'}, inplace = True)\n",
    "demographics_df.info()"
   ]
  },
  {
   "cell_type": "code",
   "execution_count": null,
   "id": "cb082c0e-2cdf-4f28-a17f-a9d594936dad",
   "metadata": {},
   "outputs": [],
   "source": [
    "# Recoding sex\n",
    "conditions = [\n",
    "     (demographics_df['sex'] == \"Male\"),\n",
    "     (demographics_df['sex'] == \"Female\")]\n",
    "choices = [1,2]\n",
    "\n",
    "demographics_df['SEX'] = np.select(conditions, choices, default=None).astype(np.int64)\n",
    "demographics_df.info()"
   ]
  },
  {
   "cell_type": "code",
   "execution_count": null,
   "id": "5668809e-25cf-4020-ab6e-28bce8ef12e0",
   "metadata": {},
   "outputs": [],
   "source": [
    "# Clean up and drop the columns we don't need anymore \n",
    "demographics_baseline_clean_df = demographics_df.drop(columns=['GUID',\n",
    "                                                               'ethnicity',\n",
    "                                                               'sex',\n",
    "                                                               'race',\n",
    "                                                               'age_at_baseline',\n",
    "                                                               'education_level_years',\n",
    "                                                               'visit_month',\n",
    "                                                               'visit_name']).copy()\n",
    "\n",
    "demographics_baseline_clean_df.info()"
   ]
  },
  {
   "cell_type": "code",
   "execution_count": null,
   "id": "f4c06585-c345-42d7-a119-3171689af47a",
   "metadata": {},
   "outputs": [],
   "source": [
    "# Identify mutation carriers\n",
    "mutation_df = gcs_read_csv(os.path.join(GS_MUTATION_RELEASE_PATH, 'amp_pd_participant_mutations.csv'))\n",
    "mutation_df.info()"
   ]
  },
  {
   "cell_type": "code",
   "execution_count": null,
   "id": "55a63954-d8b4-4c20-90cc-9eac38e16ae7",
   "metadata": {},
   "outputs": [],
   "source": [
    "# Identify LRRK2 carriers\n",
    "mutation_lrrk2_df = mutation_df[(mutation_df.has_known_LRRK2_mutation_in_WGS == \"Yes\")]\n",
    "mutation_lrrk2_df.info()"
   ]
  },
  {
   "cell_type": "code",
   "execution_count": null,
   "id": "1fd640de-64c9-4721-8d64-1f050683e073",
   "metadata": {},
   "outputs": [],
   "source": [
    "# Renaming columns\n",
    "mutation_lrrk2_df = mutation_lrrk2_df[['participant_id']].copy()\n",
    "mutation_lrrk2_df.columns = ['ID']\n",
    "mutation_lrrk2_df['FID'] = mutation_lrrk2_df['ID']"
   ]
  },
  {
   "cell_type": "code",
   "execution_count": null,
   "id": "0511aa87-0c03-4b57-8843-94b16fc4288c",
   "metadata": {},
   "outputs": [],
   "source": [
    "pd_case_control_df = gcs_read_csv(os.path.join(GS_RELEASE_PATH, 'amp_pd_case_control.csv'))\n",
    "pd_case_control_df.info()"
   ]
  },
  {
   "cell_type": "code",
   "execution_count": null,
   "id": "04babc6c-aefd-4aff-a168-2657e1045b47",
   "metadata": {},
   "outputs": [],
   "source": [
    "# Subset baseline and latest diagnosis \n",
    "pd_case_control_diagnosis_df = pd_case_control_df[['participant_id','diagnosis_latest']].copy()\n",
    "pd_case_control_diagnosis_df.columns = ['ID', 'LATEST_DIAGNOSIS']\n",
    "pd_case_control_diagnosis_df.info()\n",
    "#Total of 10 772 people\n",
    "\n",
    "pd_case_control_diagnosis_df['LATEST_DIAGNOSIS'].value_counts()"
   ]
  },
  {
   "cell_type": "code",
   "execution_count": null,
   "id": "0844ac5f-e02c-47f9-a1c1-b77f4b7338c9",
   "metadata": {},
   "outputs": [],
   "source": [
    "# Identify PD\n",
    "PD_df = pd_case_control_diagnosis_df[(pd_case_control_diagnosis_df.LATEST_DIAGNOSIS == \"Parkinson's Disease\") | (pd_case_control_diagnosis_df.LATEST_DIAGNOSIS == \"Idiopathic PD\")].copy()\n",
    "PD_df.info()"
   ]
  },
  {
   "cell_type": "code",
   "execution_count": null,
   "id": "e04a926b-4ab3-4003-8009-b4f06de155b6",
   "metadata": {},
   "outputs": [],
   "source": [
    "# Identify controls\n",
    "Control_df = pd_case_control_diagnosis_df[(pd_case_control_diagnosis_df.LATEST_DIAGNOSIS == \"No PD Nor Other Neurological Disorder\")].copy()\n",
    "Control_df.info()"
   ]
  },
  {
   "cell_type": "code",
   "execution_count": null,
   "id": "d6998a29-2dd9-4691-af28-786368f46542",
   "metadata": {},
   "outputs": [],
   "source": [
    "%%R -i mutation_lrrk2_df\n",
    "\n",
    "LRRK2 <- mutation_lrrk2_df\n",
    "\n",
    "summary(LRRK2)"
   ]
  },
  {
   "cell_type": "code",
   "execution_count": null,
   "id": "89f93851-8608-463b-a9ac-a6b1419dbcf6",
   "metadata": {},
   "outputs": [],
   "source": [
    "%%R -i PD_df \n",
    "\n",
    "# PD with LRRK2 mutation\n",
    "PD <- PD_df\n",
    "\n",
    "LRRK2_PD <- inner_join(PD_df, LRRK2, by = \"ID\") %>%\n",
    "mutate(DIAGNOSIS = \"LRRK2_PD\", ID = FID) %>%\n",
    "dplyr::rename(IID = ID) %>%\n",
    "select(FID, IID, DIAGNOSIS) %>%\n",
    "distinct(FID, .keep_all = TRUE)\n",
    "\n",
    "summary(LRRK2_PD)"
   ]
  },
  {
   "cell_type": "code",
   "execution_count": null,
   "id": "426a577c-6650-472f-9136-8c19b3307fd9",
   "metadata": {},
   "outputs": [],
   "source": [
    "%%R\n",
    "\n",
    "# PD without LRRK2 mutation\n",
    "LRRK2_NOPD <- anti_join(LRRK2, PD_df, by = \"ID\") %>%\n",
    "mutate(DIAGNOSIS = \"LRRK2_NOPD\", ID = FID) %>%\n",
    "dplyr::rename(IID = ID) %>%\n",
    "select(FID, IID, DIAGNOSIS) %>%\n",
    "distinct(FID, .keep_all = TRUE)\n",
    "\n",
    "\n",
    "summary(LRRK2_NOPD)"
   ]
  },
  {
   "cell_type": "code",
   "execution_count": null,
   "id": "5d2e8755-e43f-4b36-a01c-9fbef0444e2f",
   "metadata": {},
   "outputs": [],
   "source": [
    "%%R -i Control_df\n",
    "\n",
    "# Controls\n",
    "Controls <- Control_df\n",
    "\n",
    "Controls <- Controls %>%\n",
    "mutate(DIAGNOSIS = \"CONTROL\")%>%\n",
    "dplyr::rename(IID = ID) %>%\n",
    "mutate(FID = IID) %>%\n",
    "select(FID, IID, DIAGNOSIS) %>%\n",
    "distinct(FID, .keep_all = TRUE)\n",
    "\n",
    "\n",
    "summary(Controls)"
   ]
  },
  {
   "cell_type": "code",
   "execution_count": null,
   "id": "7408deca-d667-4a3c-b4c5-1e6a81c98e9b",
   "metadata": {},
   "outputs": [],
   "source": [
    "%%R \n",
    "\n",
    "CLIN <- full_join(LRRK2_PD, LRRK2_NOPD, by = c(\"IID\", \"FID\", \"DIAGNOSIS\"))\n",
    "CLIN2 <- full_join(CLIN, Controls, by = c(\"IID\", \"FID\", \"DIAGNOSIS\"))"
   ]
  },
  {
   "cell_type": "code",
   "execution_count": null,
   "id": "39dde848-8b68-4807-bc17-05ba5f45ff35",
   "metadata": {},
   "outputs": [],
   "source": [
    "%%R -i demographics_baseline_clean_df\n",
    "\n",
    "SEX <- demographics_baseline_clean_df %>%\n",
    "dplyr::rename(IID = ID)"
   ]
  },
  {
   "cell_type": "code",
   "execution_count": null,
   "id": "2e186963-47df-4644-bf11-61329cbada08",
   "metadata": {},
   "outputs": [],
   "source": [
    "%%R\n",
    "CLIN3 <- inner_join(CLIN2, SEX, by = \"IID\") %>%\n",
    "mutate(DIAGNOSIS1 = case_when(DIAGNOSIS == \"CONTROL\" ~ 0,\n",
    "                             DIAGNOSIS == \"LRRK2_PD\" ~ 1,\n",
    "                             DIAGNOSIS == \"LRRK2_NOPD\" ~ 2))"
   ]
  },
  {
   "cell_type": "code",
   "execution_count": null,
   "id": "a9fcda25-f02c-4dc8-8efb-1e9b09a7ece7",
   "metadata": {},
   "outputs": [],
   "source": [
    "%%R\n",
    "ID_KEEP <- CLIN3 %>%\n",
    "select(FID, IID)\n",
    "\n",
    "write.table(ID_KEEP,\"/home/jupyter/notebooks/bin/LRRK2/ID_KEEP.txt\", row.names = F, col.names = F, quote = F)"
   ]
  },
  {
   "cell_type": "markdown",
   "id": "3e9c46b3-f5d9-46f6-a72d-9adcf5ab91fc",
   "metadata": {},
   "source": [
    "# Genetic QC<a href=\"#Genetic-QC\" class=\"anchor-link\"></a>"
   ]
  },
  {
   "cell_type": "code",
   "execution_count": null,
   "id": "aa1c0caf-87d8-4a35-861f-32b0fbee08ba",
   "metadata": {},
   "outputs": [],
   "source": [
    "## Extracting individuals to keep plink\n",
    "%%bash\n",
    "--bfile /home/jupyter/notebooks/bin/genetic_data/AMP --keep ID_KEEP.txt \\\n",
    "--make-bed --out LRRK2_CONTROL \n",
    "\n",
    "## QC #Sample \n",
    "plink --bfileLRRK2_CONTROL --geno 0.05 --indep-pairwise 50 5 0.05 --maf 0.05 --out \\\n",
    "pruning plink \n",
    "\n",
    "--bfile LRRK2_CONTROL --extract pruning.prune.in \\ \n",
    "--make-bed --out pruned_data plink --bfile pruned_data --het --out prunedHet \n",
    "\n",
    "awk '{if (\\$6 \\<= -0.15) print \\$0 }' prunedHet.het > outliers1.txt \n",
    "awk '{if (\\$6 \\>= 0.15) print \\$0 }' prunedHet.het > outliers2.txt\n",
    "cat outliers1.txt outliers2.txt > HETEROZYGOSITY_OUTLIERS.txt \n",
    "cut -f 1,2 HETEROZYGOSITY_OUTLIERS.txt > all_outliers.txt \n",
    "\n",
    "plink --bfile LRRK2_CONTROL --remove all_outliers.txt \\ \n",
    "--make-bed --out LRRK2_CONTROL.het\n",
    "\n",
    "plink --bfile LRRK2_CONTROL.het \\\n",
    "--mind 0.05 --make-bed --out LRRK2_CONTROL.het.mind \n",
    "#Variant \n",
    "plink --bfile LRRK2_CONTROL.het.mind --geno 0.05 --hwe 1e-6 --maf 0.01 \\\n",
    "--make-bed --out LRRK2_CONTROL.het.mind.geno.maf.hwe \n",
    "\n",
    "#IBD \n",
    "plink2 --bfile LRRK2_CONTROL.het.geno.maf.hwe --extract pruned.prune.in \\\n",
    "--king-table-filter 0.1 --make-king-table --out IBD\n",
    "\n",
    "awk '{print \\$1, \\$2}' IBD.kin0 > IBD_remove.txt\n",
    "\n",
    "plink --bfile LRRK2_CONTROL.het.geno.maf.hwe --make-bed --out LRRK2_CONTROL.het.geno.maf.hwe.IBD --remove IBD_remove.txt \n",
    "#Ancestry\n",
    "\n",
    "plink2 --bfile /home/jupyter/notebooks/bin/LRRK2/QC/LRRK2_CONTROL.het.geno.maf.hwe.IBD \\ \n",
    "--make-bed --out cohortPreMerge --rm-dup exclude-all --autosome --snps-only --mac 2 plink2 --alt1-allele \\\n",
    "/home/jupyter/notebooks/bin/genetic_data/ANCESTRY/reference.bim 5 2\n",
    "\n",
    "--bfile cohortPreMerge --extract /home/jupyter/notebooks/bin/genetic_data/ANCESTRY/reference.bim \\\n",
    "--make-bed --out cohortToMergeHapmap --update-map \\\n",
    "/home/jupyter/notebooks/bin/genetic_data/ANCESTRY/reference.bim 4 2\n",
    "\n",
    "plink --bfile cohortToMergeHapmap --bmerge \\\n",
    "/home/jupyter/notebooks/bin/genetic_data/ANCESTRY/reference --out\n",
    "trymerge \n",
    "\n",
    "plink --bfile trymerge --bmerge /home/jupyter/notebooks/bin/genetic_data/ANCESTRY/reference --geno 0.05 \\\n",
    "--hwe 1e-6 --maf 0.01 --make-bed --out cohortAndHapmap\n",
    "\n",
    "plink --bfile cohortAndHapmap --indep-pairwise 50 5 0.05 --out prune \n",
    "\n",
    "plink --bfile cohortAndHapmap --extract prune.prune.in  --make-bed  --out \\\n",
    "pruned plink --bfile pruned --out cohortAndHapmap_PCA --pca"
   ]
  },
  {
   "cell_type": "code",
   "execution_count": null,
   "id": "1b2afb50-8807-459f-a8ea-bda0173034c4",
   "metadata": {},
   "outputs": [],
   "source": [
    "## Make a Scree Plot\n",
    "dfpcaVal = pd.read_csv('/home/jupyter/notebooks/bin/LRRK2/ANCESTRY/cohortAndHapmap_PCA.eigenval', header=None)\n",
    "dfpcaVal.plot.line()\n",
    "plt.title('Scree Plot')\n",
    "plt.show()"
   ]
  },
  {
   "cell_type": "code",
   "execution_count": null,
   "id": "e8d64b30-10d7-4722-9e9e-514b23a5556c",
   "metadata": {},
   "outputs": [],
   "source": [
    "%%R\n",
    "\n",
    "# Making a Scree plot\n",
    "\n",
    "# Read in the PCA Eigenvalues and Eigenvectors\n",
    "print(\"Read in pca.eigenval files from PLINK\")\n",
    "eigenval <- read.delim(\"~/notebooks/bin/LRRK2/ANCESTRY/cohortAndHapmap_PCA.eigenval\", sep =\"\\t\", header = F, stringsAsFactors = F)\n",
    "\n",
    "# Update column names\n",
    "colnames(eigenval)[1] <- \"Eigenvalues\"\n",
    "eigenval$PC <- as.numeric(rownames(eigenval))\n",
    "eigenval$VarianceExplained <- eigenval$Eigenvalues/sum(eigenval$Eigenvalues)*100\n",
    "\n",
    "# Keeping only the first 10 PCs\n",
    "eigenval2 <- head(eigenval,10)\n",
    "\n",
    "# Generating the plot\n",
    "scree <- ggplot(data = eigenval2, aes(x = PC, y = VarianceExplained)) +\n",
    "  geom_line() +\n",
    "  geom_point() +\n",
    "  theme_bw() +\n",
    "  theme(panel.grid.minor = element_blank()) +\n",
    "  scale_x_continuous(name = \"Principal Components\", breaks = seq(0,10,1), limits = c(NA,10)) +\n",
    "  scale_y_continuous(name = \"Percent (%) Variance Explained\", breaks = seq(0,50,5), limits = c(0,50)) +\n",
    "  ggtitle(\"Scree Plot\") +\n",
    "  theme(plot.title = element_text(hjust = 0.5, face = \"bold\"))\n",
    "\n",
    "scree"
   ]
  },
  {
   "cell_type": "code",
   "execution_count": null,
   "id": "69367b8a-9265-45fe-980e-6bb83d0277b5",
   "metadata": {},
   "outputs": [],
   "source": [
    "# PC plot\n",
    "df = pd.read_csv('~/notebooks/bin/LRRK2/ANCESTRY/cohortAndHapmap_PCA.eigenvec', delim_whitespace=True, header = None)\n",
    "df.columns=['FID', 'IID', 'PC1', 'PC2', 'PC3', 'PC4', 'PC5', 'PC6', 'PC7', 'PC8', 'PC9', 'PC10', 'PC11', 'PC12', 'PC13', 'PC14', 'PC15', 'PC16', 'PC17', 'PC18', 'PC19', 'PC20']\n",
    "\n",
    "df.info()"
   ]
  },
  {
   "cell_type": "code",
   "execution_count": null,
   "id": "73691b8a-ef52-4f6d-b9cc-83a77fd0b510",
   "metadata": {},
   "outputs": [],
   "source": [
    "df[['ID', 'Population', 'Continent']] = df.IID.str.split('_', expand=True)\n",
    "df['Population']=df.Population.where(pd.notna(df.Continent), '\"STUDY\"')\n",
    "df.Continent.where(pd.notna(df.Continent), '\"STUDY\"', inplace=True)\n",
    "colors = ['pink','green', 'purple', 'blue']\n",
    "fig, ax = plt.subplots(1, 1)\n",
    "for i, (j, group) in enumerate(df.groupby('Continent')):\n",
    "    if j=='\"STUDY\"':\n",
    "        ax.scatter(x=group.PC1, y=group.PC2, color=colors[i], label=j, s = 10, alpha = 1)\n",
    "    else:\n",
    "        sns.kdeplot(x=group.PC1, y=group.PC2, n_levels=3, ax=ax, label=j, color=colors[i], alpha=0.8)\n",
    "plt.title('AMP cohort')\n",
    "plt.legend(bbox_to_anchor=(1.05, 1), loc='upper left', borderaxespad=0, fontsize=11)\n",
    "plt.show()"
   ]
  },
  {
   "cell_type": "code",
   "execution_count": null,
   "id": "5556d497-5511-4967-820a-917e775d656d",
   "metadata": {},
   "outputs": [],
   "source": [
    "# Infer ancestry\n",
    "dfpop = df.pivot_table(index='Continent', values=['PC1', 'PC2'], aggfunc=['mean', 'std'])\n",
    "\n",
    "# Get the threshold table of mean +/- 6SD\n",
    "def funcThres(x):\n",
    "    lwl = x['mean'] - 6 * x['std']\n",
    "    hgl = x['mean'] + 6 * x['std']\n",
    "    return pd.Series({'lwl':lwl, 'hgl':hgl})\n",
    "thres = dfpop.apply(funcThres, axis=1)\n",
    "\n",
    "# function to infer ancestry\n",
    "def funcInfPop(x):\n",
    "    if x.Continent != '\"STUDY\"':\n",
    "        InfPop = 'REF'\n",
    "    else:\n",
    "        InfPop = 'ADMIX'\n",
    "        for continent in ['EUROPE', 'ASIA', 'AFRICA']:\n",
    "            if (thres.loc[continent, 'lwl']['PC1'] < x.PC1) & \\\n",
    "              (x.PC1 < thres.loc[continent, 'hgl']['PC1']) & \\\n",
    "              (thres.loc[continent, 'lwl']['PC2'] < x.PC2) & \\\n",
    "              (x.PC2 < thres.loc[continent, 'hgl']['PC2']):\n",
    "                    InfPop = continent\n",
    "    return InfPop\n",
    "df['InfPop'] = df.apply(funcInfPop, axis=1)"
   ]
  },
  {
   "cell_type": "code",
   "execution_count": null,
   "id": "fa19cf65-9c3a-4d83-9c08-f6e1e2eaac09",
   "metadata": {},
   "outputs": [],
   "source": [
    "# Europeans\n",
    "dfpca_euro = df[(df.Continent=='EUROPE') | (df.InfPop=='EUROPE')]\n",
    "colors = ['pink', 'black', 'blue', 'purple', 'orange', 'green', 'red']\n",
    "fig, ax = plt.subplots(1, 1)\n",
    "for i, (j, group) in enumerate(dfpca_euro.groupby('Population')):\n",
    "    if j=='\"STUDY\"':\n",
    "        ax.scatter(x=group.PC1, y=group.PC2, color=colors[i], label=j, s = 10, alpha = 1)\n",
    "    else:\n",
    "        ax.scatter(x=group.PC1, y=group.PC2, color=colors[i], label=j, s = 10, alpha = 1)\n",
    "#         sns.kdeplot(x=group.PC1, y=group.PC2, n_levels=3, ax=ax, label=j, color=colors[i], alpha=0.8)\n",
    "plt.legend(bbox_to_anchor=(1.05, 1), loc='upper left', borderaxespad=0, fontsize=11)\n",
    "plt.show()"
   ]
  },
  {
   "cell_type": "code",
   "execution_count": null,
   "id": "5daacfb1-9741-4edb-afe2-d3ec3c293c23",
   "metadata": {},
   "outputs": [],
   "source": [
    "# Europeans \n",
    "    # PC3 is the determinant of AJ (refer to the AMP-PD genetic resource paper...)\n",
    "fig, ax = plt.subplots(1, 1)\n",
    "for i, (j, group) in enumerate(dfpca_euro.groupby('Population')):\n",
    "    if j=='\"STUDY\"':\n",
    "        ax.scatter(x=group.PC1, y=group.PC3, color=colors[i], label=j, s = 10, alpha = 1)\n",
    "    else:\n",
    "        ax.scatter(x=group.PC1, y=group.PC3, color=colors[i], label=j, s = 10, alpha = 1)\n",
    "plt.legend(bbox_to_anchor=(1.05, 1), loc='upper left', borderaxespad=0, fontsize=11)\n",
    "plt.show()"
   ]
  },
  {
   "cell_type": "code",
   "execution_count": null,
   "id": "d7a4db50-62c2-4d26-bae6-830aee24f8a5",
   "metadata": {},
   "outputs": [],
   "source": [
    "# Create ancestry files\n",
    "df.loc[df.InfPop!='REF', ['FID', 'IID', 'InfPop'] + [f'PC{i+1}' for i in range(10)]].to_csv('~/notebooks/bin/genetic_data/ANCESTRY/genetic_ancestry_all_pca.csv', index=False)\n",
    "for continent in ['EUROPE', 'ASIA', 'AFRICA', 'ADMIX']:\n",
    "    t = df.loc[df.InfPop==continent, ['FID', 'IID']]\n",
    "    print(t.shape)\n",
    "    t.to_csv(f'~/notebooks/bin/LRRK2/ANCESTRY/{continent}.txt', index=False, sep='\\t')"
   ]
  },
  {
   "cell_type": "code",
   "execution_count": null,
   "id": "d73267f9-7dbe-40c0-b2af-128cf3ca69f4",
   "metadata": {},
   "outputs": [],
   "source": [
    "# Keeping only Europeans\n",
    "!plink --bfile /home/jupyter/notebooks/bin/LRRK2/QC/LRRK2_CONTROL.het.geno.maf.hwe.IBD --keep EUROPE.txt --make-bed --out LRRK_CONTROL_QC"
   ]
  },
  {
   "cell_type": "code",
   "execution_count": null,
   "id": "61501282-f147-46d6-a590-c7b70dd1d701",
   "metadata": {},
   "outputs": [],
   "source": [
    "%%R \n",
    "\n",
    "# Removing palindromes\n",
    "\n",
    "bim = read.table(\"~/notebooks/bin/LRRK2/LRRK_CONTROL_QC.bim\", header=F)\n",
    "\n",
    "#Get indices of A/T and G/C SNPs\n",
    "w = which((bim$V5==\"A\" & bim$V6==\"T\") |\n",
    "(bim$V5==\"T\" & bim$V6==\"A\") |\n",
    "(bim$V5==\"C\" & bim$V6==\"G\") |\n",
    "(bim$V5==\"G\" & bim$V6==\"C\"))\n",
    "\n",
    "#Extract A/T and G/C SNPs\n",
    "at.cg.snps = bim[w,]"
   ]
  },
  {
   "cell_type": "code",
   "execution_count": null,
   "id": "4e4475ae-635b-4848-9034-6ba72b629046",
   "metadata": {},
   "outputs": [],
   "source": [
    "%%R\n",
    "\n",
    "write.table(at.cg.snps$V2,\"~/notebooks/bin/LRRK2/at-cg-snps.txt\", row.names = F, col.names = F, quote = F)"
   ]
  },
  {
   "cell_type": "markdown",
   "id": "551b9d88-9362-4622-9e03-a1b5419eff43",
   "metadata": {},
   "source": [
    "# Heritability<a href=\"#Genetic-QC\" class=\"anchor-link\"></a>"
   ]
  },
  {
   "cell_type": "markdown",
   "id": "1344033a-ca68-4e0a-8f9d-db25c2ae1bd9",
   "metadata": {},
   "source": [
    "## Install GCTA"
   ]
  },
  {
   "cell_type": "code",
   "execution_count": null,
   "id": "dfb4acdd-1f1d-4eeb-8d55-73c85c55b99e",
   "metadata": {},
   "outputs": [],
   "source": [
    "# Upload the zip file linux version\n",
    "# Move to data_temp working directory\n",
    "shell_do(f'gsutil -mu gp2-ipdgc-hackathon cp gs://fc-secure-90f2e0a1-f2e0-4d16-bdf0-ec7fb247a6d3/gcta_1.93.2beta.zip ~/notebooks/bin/data_temp/gcta_temp.zip')"
   ]
  },
  {
   "cell_type": "code",
   "execution_count": null,
   "id": "d0654e0e-5f89-45fc-86e9-1cd01dae4557",
   "metadata": {},
   "outputs": [],
   "source": [
    "%%bash\n",
    "# Unzip the GCTA file\n",
    "cd '/home/jupyter-user/notebooks/bin/data_temp'\n",
    "unzip gcta_temp.zip"
   ]
  },
  {
   "cell_type": "markdown",
   "id": "16f6fc5e-8d7e-4d5a-9270-7bc59e58127d",
   "metadata": {},
   "source": [
    "## Run GCTA with AMP-PD data"
   ]
  },
  {
   "cell_type": "code",
   "execution_count": null,
   "id": "30ae7a9f-547d-41f8-bd6f-c16c65ab8b7e",
   "metadata": {},
   "outputs": [],
   "source": [
    "%%bash\n",
    "# Now try running GRM based on segmented LD scores\n",
    "# Step 1: segment based LD score\n",
    "# First split plink files per chromosome to run faster\n",
    "\n",
    "# Run on all autosomes\n",
    "cd /home/jupyter-user/notebooks/bin/data_temp/\n",
    "for chnum in {1,2,3,4,5,6,7,8,9,10,11,12,13,14,15,16,17,18,19,20,21,22};\n",
    "do\n",
    "    /home/jupyter-user/notebooks/bin/gcta_1.93.2beta/gcta64 \\\n",
    "    --bfile /home/jupyter-user/notebooks/bin/data_temp/target_chr\"$chnum\" --maf 0.05 \\\n",
    "    --ld-score-region 200 --thread-num 20 \\\n",
    "    --out /home/jupyter-user/notebooks/bin/data_temp/target_segmented_chr\"$chnum\"\n",
    "done"
   ]
  },
  {
   "cell_type": "code",
   "execution_count": null,
   "id": "3f7acf2f-ae92-48e7-8ef1-468e5ad37c38",
   "metadata": {},
   "outputs": [],
   "source": [
    "%%R\n",
    "# Step 2: stratify the SNPs by LD scores of individual SNPs in R\n",
    "require(dplyr)\n",
    "require(data.table)\n",
    "require(tidyverse)\n",
    "file.names <- dir(\"/home/jupyter-user/notebooks/bin/data_temp/\",pattern=\".*score.ld\")\n",
    "file.dfs <- lapply(file.names, fread) %>% lapply(data.frame) %>% rbind()\n",
    "combined <- bind_rows(file.dfs)\n",
    "write.table(combined, file=\"/home/jupyter-user/notebooks/bin/data_temp/all_chr.score.ld\", quote=FALSE,row.names=F,sep=\"\\t\")\n",
    "\n",
    "lds_seg <- combined\n",
    "quartiles=summary(lds_seg$ldscore_SNP)\n",
    "lb1 = which(lds_seg$ldscore_SNP <= quartiles[2])\n",
    "lb2 = which(lds_seg$ldscore_SNP > quartiles[2] & lds_seg$ldscore_SNP <= quartiles[3])\n",
    "lb3 = which(lds_seg$ldscore_SNP > quartiles[3] & lds_seg$ldscore_SNP <= quartiles[5])\n",
    "lb4 = which(lds_seg$ldscore_SNP > quartiles[5])\n",
    "lb1_snp = lds_seg$SNP[lb1]\n",
    "lb2_snp = lds_seg$SNP[lb2]\n",
    "lb3_snp = lds_seg$SNP[lb3]\n",
    "lb4_snp = lds_seg$SNP[lb4]\n",
    "write.table(lb1_snp, \"/home/jupyter-user/notebooks/bin/data_temp/snp_group1.txt\", row.names=F, quote=F, col.names=F)\n",
    "write.table(lb2_snp, \"/home/jupyter-user/notebooks/bin/data_temp/snp_group2.txt\", row.names=F, quote=F, col.names=F)\n",
    "write.table(lb3_snp, \"/home/jupyter-user/notebooks/bin/data_temp/snp_group3.txt\", row.names=F, quote=F, col.names=F)\n",
    "write.table(lb4_snp, \"/home/jupyter-user/notebooks/bin/data_temp/snp_group4.txt\", row.names=F, quote=F, col.names=F)"
   ]
  },
  {
   "cell_type": "code",
   "execution_count": null,
   "id": "58d96be0-23e7-4a1b-8cdd-d42d74ae762a",
   "metadata": {},
   "outputs": [],
   "source": [
    "%%bash\n",
    "cd /home/jupyter-user/notebooks/bin/data_temp/\n",
    "# Step 3: making GRMs using SNPs stratified into different groups\n",
    "# Note: GRM is computed using the SNPs on the autosome\n",
    "for chnum in {1,2,3,4,5,6,7,8,9,10,11,12,13,14,15,16,17,18,19,20,21,22};\n",
    "do\n",
    "    /home/jupyter-user/notebooks/bin/gcta_1.93.2beta/gcta64 --bfile target_chr\"$chnum\" \\\n",
    "    --extract snp_group1.txt --make-grm --out chr\"$chnum\"_group1\n",
    "    /home/jupyter-user/notebooks/bin/gcta_1.93.2beta/gcta64 --bfile target_chr\"$chnum\" \\\n",
    "    --extract snp_group2.txt --make-grm --out chr\"$chnum\"_group2\n",
    "    /home/jupyter-user/notebooks/bin/gcta_1.93.2beta/gcta64 --bfile target_chr\"$chnum\" \\\n",
    "    --extract snp_group3.txt --make-grm --out chr\"$chnum\"_group3\n",
    "    /home/jupyter-user/notebooks/bin/gcta_1.93.2beta/gcta64 --bfile target_chr\"$chnum\" \\\n",
    "    --extract snp_group4.txt --make-grm --out chr\"$chnum\"_group4\n",
    "done"
   ]
  },
  {
   "cell_type": "code",
   "execution_count": null,
   "id": "5728eb8f-6fcc-441b-a91e-1d92187a1acd",
   "metadata": {},
   "outputs": [],
   "source": [
    "%%bash\n",
    "cd /home/jupyter-user/notebooks/bin/data_temp/\n",
    "# Step 4: REML analysis with multiple GRMs\n",
    "# format of multi_grm.txt (no headline; each line represents the prefix of a GRM file)\n",
    "ls *group*.grm.bin | sed 's/.grm.bin//g' > multi_GRMs.txt\n",
    "/home/jupyter-user/notebooks/bin/gcta_1.93.2beta/gcta64 --reml --mgrm multi_GRMs.txt --pheno /home/jupyter-user/notebooks/bin/data_temp/covs_Mike.txt --out all_chr_reml --thread-num 20"
   ]
  },
  {
   "cell_type": "markdown",
   "id": "cee5bb1c-585d-4d3b-b1fa-79fdd37210e8",
   "metadata": {},
   "source": [
    "# Create risk scores using Plink and visualize<a href=\"#Genetic-QC\" class=\"anchor-link\"></a>"
   ]
  },
  {
   "cell_type": "code",
   "execution_count": null,
   "id": "aac30021-6aa5-4098-bf2f-445413eee621",
   "metadata": {},
   "outputs": [],
   "source": [
    "# remove duplicate IDs and reformat to fit with base dataset\n",
    "\n",
    "%%bash\n",
    "plink --bfile LRRK_CONTROL_QC.nopalindrome --rm-dup force-first --set-all-var-ids @:# \\\n",
    "--make-bed --out FINAL_FILE \n",
    "\n",
    "# Calculating GRS \n",
    "\n",
    "plink --bfile FINAL_FILE --score /home/jupyter/notebooks/bin/Nalls2019_GP2_hg38.txt list-variants --out PD_GRS\n"
   ]
  },
  {
   "cell_type": "code",
   "execution_count": null,
   "id": "02d0c1a5-4ed4-43dc-9a92-dafa63d68d0a",
   "metadata": {},
   "outputs": [],
   "source": [
    "%%R\n",
    "\n",
    "# Reading in the GRS file \n",
    "\n",
    "PROFILE <- read.table(\"/home/jupyter/notebooks/bin/LRRK2/PD_GRS.profile\", header = T) \n",
    "data <- merge(PROFILE, FINAL_COV, by = c(\"FID\", \"IID\")) %>%\n",
    "distinct(FID, .keep_all=TRUE)"
   ]
  },
  {
   "cell_type": "code",
   "execution_count": null,
   "id": "101ab737-c3ce-4874-ac0a-11ab89620b01",
   "metadata": {},
   "outputs": [],
   "source": [
    "%%R\n",
    "\n",
    "# Standardizing\n",
    "meanControls <- mean(data$SCORE[data$DIAGNOSIS1 == 0])\n",
    "sdControls <- sd(data$SCORE[data$DIAGNOSIS1 == 0])\n",
    "data$zSCORE <- (data$SCORE - meanControls)/sdControls\n",
    "\n",
    "head(data)"
   ]
  },
  {
   "cell_type": "code",
   "execution_count": null,
   "id": "657ecb24-6e9f-407d-8ad1-75d589d89e2f",
   "metadata": {},
   "outputs": [],
   "source": [
    "%%R\n",
    "\n",
    "LRRK2_CONTROL <- data %>%\n",
    "filter(DIAGNOSIS == \"LRRK2_PD\" | DIAGNOSIS == \"CONTROL\")\n",
    "\n",
    "GRS_LRRK2_CONTROL <- glm(DIAGNOSIS1 ~ zSCORE + SEX + PC1 + PC2 + PC3 + PC4 + PC5 + PC6 + PC7 + PC8 + PC9 + PC10, family=\"binomial\", data = LRRK2_CONTROL)\n",
    "summary(GRS_LRRK2_CONTROL)"
   ]
  },
  {
   "cell_type": "code",
   "execution_count": null,
   "id": "6a329329-286b-4a76-9c11-9d01cd181a21",
   "metadata": {},
   "outputs": [],
   "source": [
    "%%R\n",
    "\n",
    "exp(coef(GRS_LRRK2_CONTROL))"
   ]
  },
  {
   "cell_type": "code",
   "execution_count": null,
   "id": "8d2a2d19-2d62-46a3-bec1-2a722e05278b",
   "metadata": {},
   "outputs": [],
   "source": [
    "%%R\n",
    "exp(confint(GRS_LRRK2_CONTROL))"
   ]
  },
  {
   "cell_type": "code",
   "execution_count": null,
   "id": "4241bf20-777c-48ca-b9b7-c171e5977489",
   "metadata": {},
   "outputs": [],
   "source": [
    "%%R\n",
    "\n",
    "LRRK2NOPD_CONTROL <- data %>%\n",
    "filter(DIAGNOSIS == \"LRRK2_NOPD\" | DIAGNOSIS == \"CONTROL\") %>%\n",
    "mutate(DIAGNOSIS1 = ifelse(DIAGNOSIS1 == 2, 1, DIAGNOSIS1)) #recoding LRRK2_NOPD from 2 to 1 for regression\n",
    "\n",
    "GRS_LRRK2NOPD_CONTROL <- glm(DIAGNOSIS1 ~ zSCORE + SEX + PC1 + PC2 + PC3 + PC4 + PC5 + PC6 + PC7 + PC8 + PC9 + PC10, family=\"binomial\", data = LRRK2NOPD_CONTROL)\n",
    "summary(GRS_LRRK2NOPD_CONTROL)"
   ]
  },
  {
   "cell_type": "code",
   "execution_count": null,
   "id": "f4d3e488-74d7-4868-9d4c-ddb1fb648ac6",
   "metadata": {},
   "outputs": [],
   "source": [
    "%%R\n",
    "\n",
    "exp(coef(GRS_LRRK2NOPD_CONTROL))"
   ]
  },
  {
   "cell_type": "code",
   "execution_count": null,
   "id": "99da3f53-84fe-46bb-88db-e75cab55c6c4",
   "metadata": {},
   "outputs": [],
   "source": [
    "%%R\n",
    "exp(confint(GRS_LRRK2NOPD_CONTROL))"
   ]
  },
  {
   "cell_type": "code",
   "execution_count": null,
   "id": "8aa8b457-55b2-4712-af0b-db7529ca2429",
   "metadata": {},
   "outputs": [],
   "source": [
    "%%R\n",
    "\n",
    "LRRK2_CARRIERS <- data %>%\n",
    "filter(DIAGNOSIS == \"LRRK2_NOPD\" | DIAGNOSIS == \"LRRK2_PD\") %>%\n",
    "mutate(DIAGNOSIS1 = ifelse(DIAGNOSIS1 == 2, 0, DIAGNOSIS1)) #recoding LRRK2_NOPD from 2 to 0 for regression\n",
    "\n",
    "GRS_LRRK2_CARRIERS <- glm(DIAGNOSIS1 ~ zSCORE + SEX + PC1 + PC2 + PC3 + PC4 + PC5 + PC6 + PC7 + PC8 + PC9 + PC10, family=\"binomial\", data = LRRK2_CARRIERS)\n",
    "summary(GRS_LRRK2_CARRIERS)"
   ]
  },
  {
   "cell_type": "code",
   "execution_count": null,
   "id": "aaefbee7-c131-4d07-8db6-8352c2ed3fdc",
   "metadata": {},
   "outputs": [],
   "source": [
    "%%R\n",
    "\n",
    "exp(coef(GRS_LRRK2_CARRIERS))"
   ]
  },
  {
   "cell_type": "code",
   "execution_count": null,
   "id": "76c6b661-ccac-46c0-a6d5-a65c97f0af18",
   "metadata": {},
   "outputs": [],
   "source": [
    "%%R\n",
    "exp(confint(GRS_LRRK2_CARRIERS))"
   ]
  },
  {
   "cell_type": "code",
   "execution_count": null,
   "id": "72e01534-1ac5-4120-b413-f99b7f995402",
   "metadata": {},
   "outputs": [],
   "source": [
    "%%R\n",
    "\n",
    "p <- ggplot(data, aes(x= reorder(as.factor(DIAGNOSIS), zSCORE), y=zSCORE, fill=as.factor(DIAGNOSIS))) +\n",
    "  geom_violin(trim=FALSE)\n",
    "\n",
    "p2 <- p+geom_boxplot(width=0.4, fill=\"white\" ) + theme_minimal()\n",
    "\n",
    "p3 <- p2 + ylab(\"PD GRS (Z-transformed)\") + xlab(\"Diagnoses\") + theme(legend.position = \"none\")\n",
    "\n",
    "\n",
    "p3"
   ]
  },
  {
   "cell_type": "code",
   "execution_count": null,
   "id": "ea8e0584-c34d-42e8-8582-492a41862a84",
   "metadata": {},
   "outputs": [],
   "source": [
    "%%R\n",
    "\n",
    "data %>%\n",
    "  group_by(DIAGNOSIS) %>%\n",
    "  summarise_at(vars(SCORE), list(mean = mean, sd = sd))"
   ]
  },
  {
   "cell_type": "code",
   "execution_count": null,
   "id": "f34d4f8c-c666-4286-9e82-f23d7383d322",
   "metadata": {},
   "outputs": [],
   "source": [
    "%%R \n",
    "\n",
    "kruskal.test(SCORE ~ DIAGNOSIS, data = data)"
   ]
  },
  {
   "cell_type": "code",
   "execution_count": null,
   "id": "44a87b6b-71a8-4439-bc75-a05ad64b6c59",
   "metadata": {},
   "outputs": [],
   "source": [
    "%%R\n",
    "\n",
    "pairwise.wilcox.test(data$SCORE, data$DIAGNOSIS,\n",
    "                 p.adjust.method = \"BH\")"
   ]
  }
 ],
 "metadata": {
  "kernelspec": {
   "display_name": "Python 3 (ipykernel)",
   "language": "python",
   "name": "python3"
  },
  "language_info": {
   "codemirror_mode": {
    "name": "ipython",
    "version": 3
   },
   "file_extension": ".py",
   "mimetype": "text/x-python",
   "name": "python",
   "nbconvert_exporter": "python",
   "pygments_lexer": "ipython3",
   "version": "3.11.0"
  }
 },
 "nbformat": 4,
 "nbformat_minor": 5
}
